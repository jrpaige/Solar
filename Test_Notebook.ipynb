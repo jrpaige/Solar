{
 "cells": [
  {
   "cell_type": "code",
   "execution_count": 9,
   "metadata": {},
   "outputs": [
    {
     "name": "stdout",
     "output_type": "stream",
     "text": [
      "Collecting tscv\n",
      "  Downloading https://files.pythonhosted.org/packages/c7/e9/9ce9971979857ff3d452f416a46cce07027b57c0383947c035c042c60fd1/tscv-0.0.4-py3-none-any.whl\n",
      "Installing collected packages: tscv\n",
      "Successfully installed tscv-0.0.4\n",
      "Note: you may need to restart the kernel to use updated packages.\n"
     ]
    }
   ],
   "source": [
    "pip install tscv"
   ]
  },
  {
   "cell_type": "code",
   "execution_count": 10,
   "metadata": {},
   "outputs": [
    {
     "name": "stdout",
     "output_type": "stream",
     "text": [
      "Requirement already up-to-date: tscv in /Users/jenniferpaige/opt/anaconda3/lib/python3.7/site-packages (0.0.4)\n",
      "Note: you may need to restart the kernel to use updated packages.\n"
     ]
    }
   ],
   "source": [
    "pip install tscv --upgrade"
   ]
  },
  {
   "cell_type": "code",
   "execution_count": 1,
   "metadata": {},
   "outputs": [],
   "source": [
    "from src import Prep\n",
    "from src.Time_Series_Helper_Funcs import *"
   ]
  },
  {
   "cell_type": "code",
   "execution_count": 78,
   "metadata": {},
   "outputs": [],
   "source": [
    "import matplotlib.pyplot as plt\n",
    "from math import sqrt\n",
    "from sklearn import svm\n",
    "from sklearn.ensemble import RandomForestClassifier, GradientBoostingClassifier, RandomForestRegressor, GradientBoostingRegressor\n",
    "from sklearn.linear_model import LogisticRegression, LinearRegression, Ridge\n",
    "from sklearn.model_selection import cross_val_score, train_test_split, GridSearchCV,  KFold\n",
    "from sklearn.metrics import f1_score, r2_score, mean_squared_error, make_scorer, precision_score, recall_score, confusion_matrix, classification_report, accuracy_score, f1_score\n",
    "from sklearn.preprocessing import StandardScaler, PolynomialFeatures\n",
    "from sklearn.pipeline import Pipeline, make_pipeline, FeatureUnion\n",
    "from sklearn.base import BaseEstimator, TransformerMixin\n",
    "from statsmodels.graphics.tsaplots import plot_acf, plot_pacf\n",
    "import statsmodels\n",
    "import statsmodels.api as sm\n",
    "from statsmodels.tsa.arima.model import ARIMA\n",
    "import tscv\n",
    "from tscv import *\n",
    "import numpy as np\n",
    "import pandas as pd \n",
    "import pyramid\n",
    "from pmdarima.arima import auto_arima\n",
    "\n",
    "# from src.Trend_Season_plots import *\n",
    "# # visualization packages\n",
    "# %matplotlib inline\n",
    "# import seaborn as sns\n",
    "# sns.set()\n",
    "# import plotly.express as px\n",
    "# plt.style.use('ggplot')\n",
    "# from matplotlib.pylab import rcParams\n",
    "# rcParams['figure.figsize'] = 10, 6\n",
    "\n",
    "\n",
    "import warnings\n",
    "warnings.filterwarnings('ignore')\n"
   ]
  },
  {
   "cell_type": "code",
   "execution_count": 3,
   "metadata": {},
   "outputs": [],
   "source": [
    "%load_ext autoreload"
   ]
  },
  {
   "cell_type": "code",
   "execution_count": 4,
   "metadata": {},
   "outputs": [],
   "source": [
    "%reload_ext autoreload"
   ]
  },
  {
   "cell_type": "code",
   "execution_count": 5,
   "metadata": {},
   "outputs": [],
   "source": [
    "%autoreload"
   ]
  },
  {
   "cell_type": "code",
   "execution_count": 6,
   "metadata": {},
   "outputs": [
    {
     "name": "stdout",
     "output_type": "stream",
     "text": [
      "1 of 11 |    Reading in first dataset. \n",
      "             Using 4/60 features/columns: 'Installation Date', 'System Size', 'Total Installed Price' , 'Customer Segment' \n",
      "             Changing -9999 values to null\n",
      "2 of 11 |    Reading in second dataset. \n",
      "             Using 4/60 features/columns: 'Installation Date', 'System Size', 'Total Installed Price' , 'Customer Segment' \n",
      "             Changing -9999 values to null\n",
      "3 of 11 |    Concatenating datasets together\n",
      "4 of 11 |    Refining to only RES Customer Segment\n",
      "5 of 11 |    Cleaning up column names\n",
      "6 of 11 |    Sorting values by installation_date\n",
      "7 of 11 |    Assigning installation_date as index\n",
      "8 of 11 |    Replacing all null values with median values from same year\n",
      "9 of 11 |    Adusting prices for inflation\n",
      "10 of 11|    Creating target variable: cost_per_watt\n",
      "11 of 11|    Removing > 1600 outliers above $25 per watt\n",
      "Prep complete \n",
      " ------------------------------------------------------------\n"
     ]
    }
   ],
   "source": [
    "df = Prep.prep()"
   ]
  },
  {
   "cell_type": "code",
   "execution_count": 7,
   "metadata": {
    "collapsed": true,
    "jupyter": {
     "outputs_hidden": true
    }
   },
   "outputs": [
    {
     "data": {
      "text/html": [
       "<div>\n",
       "<style scoped>\n",
       "    .dataframe tbody tr th:only-of-type {\n",
       "        vertical-align: middle;\n",
       "    }\n",
       "\n",
       "    .dataframe tbody tr th {\n",
       "        vertical-align: top;\n",
       "    }\n",
       "\n",
       "    .dataframe thead th {\n",
       "        text-align: right;\n",
       "    }\n",
       "</style>\n",
       "<table border=\"1\" class=\"dataframe\">\n",
       "  <thead>\n",
       "    <tr style=\"text-align: right;\">\n",
       "      <th></th>\n",
       "      <th>system_size</th>\n",
       "      <th>total_installed_price</th>\n",
       "      <th>customer_segment</th>\n",
       "      <th>date</th>\n",
       "      <th>adj_installed_price</th>\n",
       "      <th>cost_per_watt</th>\n",
       "    </tr>\n",
       "    <tr>\n",
       "      <th>installation_date</th>\n",
       "      <th></th>\n",
       "      <th></th>\n",
       "      <th></th>\n",
       "      <th></th>\n",
       "      <th></th>\n",
       "      <th></th>\n",
       "    </tr>\n",
       "  </thead>\n",
       "  <tbody>\n",
       "    <tr>\n",
       "      <td>1998-01-30</td>\n",
       "      <td>4.251500</td>\n",
       "      <td>17439.0</td>\n",
       "      <td>RES</td>\n",
       "      <td>1998-01-30</td>\n",
       "      <td>27838.84</td>\n",
       "      <td>6.55</td>\n",
       "    </tr>\n",
       "    <tr>\n",
       "      <td>1998-04-08</td>\n",
       "      <td>2.331600</td>\n",
       "      <td>30941.0</td>\n",
       "      <td>RES</td>\n",
       "      <td>1998-04-08</td>\n",
       "      <td>49119.27</td>\n",
       "      <td>21.07</td>\n",
       "    </tr>\n",
       "    <tr>\n",
       "      <td>1998-04-30</td>\n",
       "      <td>4.181100</td>\n",
       "      <td>17439.0</td>\n",
       "      <td>RES</td>\n",
       "      <td>1998-04-30</td>\n",
       "      <td>27684.65</td>\n",
       "      <td>6.62</td>\n",
       "    </tr>\n",
       "    <tr>\n",
       "      <td>1998-07-07</td>\n",
       "      <td>2.282400</td>\n",
       "      <td>24500.0</td>\n",
       "      <td>RES</td>\n",
       "      <td>1998-07-07</td>\n",
       "      <td>38727.26</td>\n",
       "      <td>16.97</td>\n",
       "    </tr>\n",
       "    <tr>\n",
       "      <td>1998-07-10</td>\n",
       "      <td>3.113265</td>\n",
       "      <td>17439.0</td>\n",
       "      <td>RES</td>\n",
       "      <td>1998-07-10</td>\n",
       "      <td>27565.91</td>\n",
       "      <td>8.85</td>\n",
       "    </tr>\n",
       "    <tr>\n",
       "      <td>...</td>\n",
       "      <td>...</td>\n",
       "      <td>...</td>\n",
       "      <td>...</td>\n",
       "      <td>...</td>\n",
       "      <td>...</td>\n",
       "      <td>...</td>\n",
       "    </tr>\n",
       "    <tr>\n",
       "      <td>2018-12-31</td>\n",
       "      <td>5.760000</td>\n",
       "      <td>22000.0</td>\n",
       "      <td>RES</td>\n",
       "      <td>2018-12-31</td>\n",
       "      <td>22590.03</td>\n",
       "      <td>3.92</td>\n",
       "    </tr>\n",
       "    <tr>\n",
       "      <td>2018-12-31</td>\n",
       "      <td>4.410000</td>\n",
       "      <td>21610.0</td>\n",
       "      <td>RES</td>\n",
       "      <td>2018-12-31</td>\n",
       "      <td>22189.57</td>\n",
       "      <td>5.03</td>\n",
       "    </tr>\n",
       "    <tr>\n",
       "      <td>2018-12-31</td>\n",
       "      <td>8.640000</td>\n",
       "      <td>45958.6</td>\n",
       "      <td>RES</td>\n",
       "      <td>2018-12-31</td>\n",
       "      <td>47191.20</td>\n",
       "      <td>5.46</td>\n",
       "    </tr>\n",
       "    <tr>\n",
       "      <td>2018-12-31</td>\n",
       "      <td>2.880000</td>\n",
       "      <td>10944.0</td>\n",
       "      <td>RES</td>\n",
       "      <td>2018-12-31</td>\n",
       "      <td>11237.52</td>\n",
       "      <td>3.90</td>\n",
       "    </tr>\n",
       "    <tr>\n",
       "      <td>2018-12-31</td>\n",
       "      <td>4.800000</td>\n",
       "      <td>18700.0</td>\n",
       "      <td>RES</td>\n",
       "      <td>2018-12-31</td>\n",
       "      <td>19201.53</td>\n",
       "      <td>4.00</td>\n",
       "    </tr>\n",
       "  </tbody>\n",
       "</table>\n",
       "<p>1454545 rows × 6 columns</p>\n",
       "</div>"
      ],
      "text/plain": [
       "                   system_size  total_installed_price customer_segment  \\\n",
       "installation_date                                                        \n",
       "1998-01-30            4.251500                17439.0              RES   \n",
       "1998-04-08            2.331600                30941.0              RES   \n",
       "1998-04-30            4.181100                17439.0              RES   \n",
       "1998-07-07            2.282400                24500.0              RES   \n",
       "1998-07-10            3.113265                17439.0              RES   \n",
       "...                        ...                    ...              ...   \n",
       "2018-12-31            5.760000                22000.0              RES   \n",
       "2018-12-31            4.410000                21610.0              RES   \n",
       "2018-12-31            8.640000                45958.6              RES   \n",
       "2018-12-31            2.880000                10944.0              RES   \n",
       "2018-12-31            4.800000                18700.0              RES   \n",
       "\n",
       "                         date  adj_installed_price  cost_per_watt  \n",
       "installation_date                                                  \n",
       "1998-01-30         1998-01-30             27838.84           6.55  \n",
       "1998-04-08         1998-04-08             49119.27          21.07  \n",
       "1998-04-30         1998-04-30             27684.65           6.62  \n",
       "1998-07-07         1998-07-07             38727.26          16.97  \n",
       "1998-07-10         1998-07-10             27565.91           8.85  \n",
       "...                       ...                  ...            ...  \n",
       "2018-12-31         2018-12-31             22590.03           3.92  \n",
       "2018-12-31         2018-12-31             22189.57           5.03  \n",
       "2018-12-31         2018-12-31             47191.20           5.46  \n",
       "2018-12-31         2018-12-31             11237.52           3.90  \n",
       "2018-12-31         2018-12-31             19201.53           4.00  \n",
       "\n",
       "[1454545 rows x 6 columns]"
      ]
     },
     "execution_count": 7,
     "metadata": {},
     "output_type": "execute_result"
    }
   ],
   "source": [
    "df"
   ]
  },
  {
   "cell_type": "code",
   "execution_count": 8,
   "metadata": {},
   "outputs": [
    {
     "name": "stdout",
     "output_type": "stream",
     "text": [
      "                            OLS Regression Results                            \n",
      "==============================================================================\n",
      "Dep. Variable:                      y   R-squared:                       0.983\n",
      "Model:                            OLS   Adj. R-squared:                  0.983\n",
      "Method:                 Least Squares   F-statistic:                 1.737e+04\n",
      "Date:                Mon, 16 Mar 2020   Prob (F-statistic):               0.00\n",
      "Time:                        17:47:51   Log-Likelihood:                -320.64\n",
      "No. Observations:                 885   AIC:                             649.3\n",
      "Df Residuals:                     881   BIC:                             668.4\n",
      "Df Model:                           3                                         \n",
      "Covariance Type:            nonrobust                                         \n",
      "==============================================================================\n",
      "                 coef    std err          t      P>|t|      [0.025      0.975]\n",
      "------------------------------------------------------------------------------\n",
      "Intercept      0.0235      0.035      0.676      0.499      -0.045       0.092\n",
      "Lag1           0.3002      0.031      9.805      0.000       0.240       0.360\n",
      "Lag2           0.2809      0.031      9.112      0.000       0.220       0.341\n",
      "Lag3           0.4130      0.031     13.508      0.000       0.353       0.473\n",
      "==============================================================================\n",
      "Omnibus:                      416.592   Durbin-Watson:                   2.179\n",
      "Prob(Omnibus):                  0.000   Jarque-Bera (JB):            20896.855\n",
      "Skew:                           1.370   Prob(JB):                         0.00\n",
      "Kurtosis:                      26.647   Cond. No.                         44.6\n",
      "==============================================================================\n",
      "\n",
      "Warnings:\n",
      "[1] Standard Errors assume that the covariance matrix of the errors is correctly specified.\n",
      "                            OLS Regression Results                            \n",
      "==============================================================================\n",
      "Dep. Variable:                      y   R-squared:                       0.983\n",
      "Model:                            OLS   Adj. R-squared:                  0.983\n",
      "Method:                 Least Squares   F-statistic:                 1.737e+04\n",
      "Date:                Mon, 16 Mar 2020   Prob (F-statistic):               0.00\n",
      "Time:                        17:47:52   Log-Likelihood:                -320.64\n",
      "No. Observations:                 885   AIC:                             649.3\n",
      "Df Residuals:                     881   BIC:                             668.4\n",
      "Df Model:                           3                                         \n",
      "Covariance Type:            nonrobust                                         \n",
      "==============================================================================\n",
      "                 coef    std err          t      P>|t|      [0.025      0.975]\n",
      "------------------------------------------------------------------------------\n",
      "Intercept      0.0235      0.035      0.676      0.499      -0.045       0.092\n",
      "Lag1           0.3002      0.031      9.805      0.000       0.240       0.360\n",
      "Lag2           0.2809      0.031      9.112      0.000       0.220       0.341\n",
      "Lag3           0.4130      0.031     13.508      0.000       0.353       0.473\n",
      "==============================================================================\n",
      "Omnibus:                      416.592   Durbin-Watson:                   2.179\n",
      "Prob(Omnibus):                  0.000   Jarque-Bera (JB):            20896.855\n",
      "Skew:                           1.370   Prob(JB):                         0.00\n",
      "Kurtosis:                      26.647   Cond. No.                         44.6\n",
      "==============================================================================\n",
      "\n",
      "Warnings:\n",
      "[1] Standard Errors assume that the covariance matrix of the errors is correctly specified.\n"
     ]
    }
   ],
   "source": [
    "syw, s_lagg = shortened_timeline(df)[0], shortened_timeline(df)[1]"
   ]
  },
  {
   "cell_type": "code",
   "execution_count": 15,
   "metadata": {},
   "outputs": [
    {
     "data": {
      "text/html": [
       "<div>\n",
       "<style scoped>\n",
       "    .dataframe tbody tr th:only-of-type {\n",
       "        vertical-align: middle;\n",
       "    }\n",
       "\n",
       "    .dataframe tbody tr th {\n",
       "        vertical-align: top;\n",
       "    }\n",
       "\n",
       "    .dataframe thead th {\n",
       "        text-align: right;\n",
       "    }\n",
       "</style>\n",
       "<table border=\"1\" class=\"dataframe\">\n",
       "  <thead>\n",
       "    <tr style=\"text-align: right;\">\n",
       "      <th></th>\n",
       "      <th>cost_per_watt</th>\n",
       "    </tr>\n",
       "    <tr>\n",
       "      <th>installation_date</th>\n",
       "      <th></th>\n",
       "    </tr>\n",
       "  </thead>\n",
       "  <tbody>\n",
       "    <tr>\n",
       "      <td>2002-01-06</td>\n",
       "      <td>12.935</td>\n",
       "    </tr>\n",
       "    <tr>\n",
       "      <td>2002-01-13</td>\n",
       "      <td>12.670</td>\n",
       "    </tr>\n",
       "    <tr>\n",
       "      <td>2002-01-20</td>\n",
       "      <td>12.110</td>\n",
       "    </tr>\n",
       "    <tr>\n",
       "      <td>2002-01-27</td>\n",
       "      <td>11.950</td>\n",
       "    </tr>\n",
       "    <tr>\n",
       "      <td>2002-02-03</td>\n",
       "      <td>11.820</td>\n",
       "    </tr>\n",
       "    <tr>\n",
       "      <td>...</td>\n",
       "      <td>...</td>\n",
       "    </tr>\n",
       "    <tr>\n",
       "      <td>2018-12-09</td>\n",
       "      <td>3.790</td>\n",
       "    </tr>\n",
       "    <tr>\n",
       "      <td>2018-12-16</td>\n",
       "      <td>3.850</td>\n",
       "    </tr>\n",
       "    <tr>\n",
       "      <td>2018-12-23</td>\n",
       "      <td>3.890</td>\n",
       "    </tr>\n",
       "    <tr>\n",
       "      <td>2018-12-30</td>\n",
       "      <td>3.850</td>\n",
       "    </tr>\n",
       "    <tr>\n",
       "      <td>2019-01-06</td>\n",
       "      <td>3.900</td>\n",
       "    </tr>\n",
       "  </tbody>\n",
       "</table>\n",
       "<p>888 rows × 1 columns</p>\n",
       "</div>"
      ],
      "text/plain": [
       "                   cost_per_watt\n",
       "installation_date               \n",
       "2002-01-06                12.935\n",
       "2002-01-13                12.670\n",
       "2002-01-20                12.110\n",
       "2002-01-27                11.950\n",
       "2002-02-03                11.820\n",
       "...                          ...\n",
       "2018-12-09                 3.790\n",
       "2018-12-16                 3.850\n",
       "2018-12-23                 3.890\n",
       "2018-12-30                 3.850\n",
       "2019-01-06                 3.900\n",
       "\n",
       "[888 rows x 1 columns]"
      ]
     },
     "execution_count": 15,
     "metadata": {},
     "output_type": "execute_result"
    }
   ],
   "source": [
    "syw"
   ]
  },
  {
   "cell_type": "code",
   "execution_count": 16,
   "metadata": {},
   "outputs": [
    {
     "data": {
      "image/png": "[encoded data removed]",
      "text/plain": [
       "<Figure size 432x288 with 1 Axes>"
      ]
     },
     "metadata": {
      "needs_background": "light"
     },
     "output_type": "display_data"
    },
    {
     "name": "stdout",
     "output_type": "stream",
     "text": [
      "Results of Dickey-Fuller Test:\n",
      "Test Statistic                  -1.323589\n",
      "p-value                          0.618312\n",
      "#Lags Used                      21.000000\n",
      "Number of Observations Used    866.000000\n",
      "Critical Value (1%)             -3.437924\n",
      "Critical Value (5%)             -2.864883\n",
      "Critical Value (10%)            -2.568550\n",
      "dtype: float64\n"
     ]
    }
   ],
   "source": [
    "rolling_plot(syw)\n",
    "plt.show()\n",
    "test_stationarity(syw)"
   ]
  },
  {
   "cell_type": "code",
   "execution_count": 17,
   "metadata": {},
   "outputs": [
    {
     "data": {
      "image/png": "[encoded data removed]",
      "text/plain": [
       "<Figure size 1152x432 with 2 Axes>"
      ]
     },
     "metadata": {
      "needs_background": "light"
     },
     "output_type": "display_data"
    }
   ],
   "source": [
    "box_jenkins_plot(syw)"
   ]
  },
  {
   "cell_type": "code",
   "execution_count": 18,
   "metadata": {},
   "outputs": [],
   "source": [
    "s_lagg = create_lag(syw)"
   ]
  },
  {
   "cell_type": "code",
   "execution_count": 19,
   "metadata": {},
   "outputs": [
    {
     "data": {
      "text/html": [
       "<div>\n",
       "<style scoped>\n",
       "    .dataframe tbody tr th:only-of-type {\n",
       "        vertical-align: middle;\n",
       "    }\n",
       "\n",
       "    .dataframe tbody tr th {\n",
       "        vertical-align: top;\n",
       "    }\n",
       "\n",
       "    .dataframe thead tr th {\n",
       "        text-align: left;\n",
       "    }\n",
       "\n",
       "    .dataframe thead tr:last-of-type th {\n",
       "        text-align: right;\n",
       "    }\n",
       "</style>\n",
       "<table border=\"1\" class=\"dataframe\">\n",
       "  <thead>\n",
       "    <tr>\n",
       "      <th></th>\n",
       "      <th>y</th>\n",
       "      <th>Lag1</th>\n",
       "      <th>Lag2</th>\n",
       "      <th>Lag3</th>\n",
       "    </tr>\n",
       "    <tr>\n",
       "      <th></th>\n",
       "      <th>cost_per_watt</th>\n",
       "      <th>cost_per_watt</th>\n",
       "      <th>cost_per_watt</th>\n",
       "      <th>cost_per_watt</th>\n",
       "    </tr>\n",
       "    <tr>\n",
       "      <th>installation_date</th>\n",
       "      <th></th>\n",
       "      <th></th>\n",
       "      <th></th>\n",
       "      <th></th>\n",
       "    </tr>\n",
       "  </thead>\n",
       "  <tbody>\n",
       "    <tr>\n",
       "      <td>2002-01-27</td>\n",
       "      <td>11.950</td>\n",
       "      <td>12.110</td>\n",
       "      <td>12.670</td>\n",
       "      <td>12.935</td>\n",
       "    </tr>\n",
       "    <tr>\n",
       "      <td>2002-02-03</td>\n",
       "      <td>11.820</td>\n",
       "      <td>11.950</td>\n",
       "      <td>12.110</td>\n",
       "      <td>12.670</td>\n",
       "    </tr>\n",
       "    <tr>\n",
       "      <td>2002-02-10</td>\n",
       "      <td>12.755</td>\n",
       "      <td>11.820</td>\n",
       "      <td>11.950</td>\n",
       "      <td>12.110</td>\n",
       "    </tr>\n",
       "    <tr>\n",
       "      <td>2002-02-17</td>\n",
       "      <td>10.860</td>\n",
       "      <td>12.755</td>\n",
       "      <td>11.820</td>\n",
       "      <td>11.950</td>\n",
       "    </tr>\n",
       "    <tr>\n",
       "      <td>2002-02-24</td>\n",
       "      <td>11.150</td>\n",
       "      <td>10.860</td>\n",
       "      <td>12.755</td>\n",
       "      <td>11.820</td>\n",
       "    </tr>\n",
       "    <tr>\n",
       "      <td>...</td>\n",
       "      <td>...</td>\n",
       "      <td>...</td>\n",
       "      <td>...</td>\n",
       "      <td>...</td>\n",
       "    </tr>\n",
       "    <tr>\n",
       "      <td>2018-12-09</td>\n",
       "      <td>3.790</td>\n",
       "      <td>3.780</td>\n",
       "      <td>3.780</td>\n",
       "      <td>3.790</td>\n",
       "    </tr>\n",
       "    <tr>\n",
       "      <td>2018-12-16</td>\n",
       "      <td>3.850</td>\n",
       "      <td>3.790</td>\n",
       "      <td>3.780</td>\n",
       "      <td>3.780</td>\n",
       "    </tr>\n",
       "    <tr>\n",
       "      <td>2018-12-23</td>\n",
       "      <td>3.890</td>\n",
       "      <td>3.850</td>\n",
       "      <td>3.790</td>\n",
       "      <td>3.780</td>\n",
       "    </tr>\n",
       "    <tr>\n",
       "      <td>2018-12-30</td>\n",
       "      <td>3.850</td>\n",
       "      <td>3.890</td>\n",
       "      <td>3.850</td>\n",
       "      <td>3.790</td>\n",
       "    </tr>\n",
       "    <tr>\n",
       "      <td>2019-01-06</td>\n",
       "      <td>3.900</td>\n",
       "      <td>3.850</td>\n",
       "      <td>3.890</td>\n",
       "      <td>3.850</td>\n",
       "    </tr>\n",
       "  </tbody>\n",
       "</table>\n",
       "<p>885 rows × 4 columns</p>\n",
       "</div>"
      ],
      "text/plain": [
       "                              y          Lag1          Lag2          Lag3\n",
       "                  cost_per_watt cost_per_watt cost_per_watt cost_per_watt\n",
       "installation_date                                                        \n",
       "2002-01-27               11.950        12.110        12.670        12.935\n",
       "2002-02-03               11.820        11.950        12.110        12.670\n",
       "2002-02-10               12.755        11.820        11.950        12.110\n",
       "2002-02-17               10.860        12.755        11.820        11.950\n",
       "2002-02-24               11.150        10.860        12.755        11.820\n",
       "...                         ...           ...           ...           ...\n",
       "2018-12-09                3.790         3.780         3.780         3.790\n",
       "2018-12-16                3.850         3.790         3.780         3.780\n",
       "2018-12-23                3.890         3.850         3.790         3.780\n",
       "2018-12-30                3.850         3.890         3.850         3.790\n",
       "2019-01-06                3.900         3.850         3.890         3.850\n",
       "\n",
       "[885 rows x 4 columns]"
      ]
     },
     "execution_count": 19,
     "metadata": {},
     "output_type": "execute_result"
    }
   ],
   "source": [
    "s_lagg"
   ]
  },
  {
   "cell_type": "code",
   "execution_count": 47,
   "metadata": {},
   "outputs": [
    {
     "data": {
      "text/plain": [
       "663.75"
      ]
     },
     "execution_count": 47,
     "metadata": {},
     "output_type": "execute_result"
    }
   ],
   "source": [
    "885 * .75"
   ]
  },
  {
   "cell_type": "code",
   "execution_count": 74,
   "metadata": {
    "jupyter": {
     "source_hidden": true
    }
   },
   "outputs": [
    {
     "data": {
      "image/png": "[encoded data removed]",
      "text/plain": [
       "<Figure size 1800x1080 with 1 Axes>"
      ]
     },
     "metadata": {
      "needs_background": "light"
     },
     "output_type": "display_data"
    },
    {
     "name": "stdout",
     "output_type": "stream",
     "text": [
      "RMS for train test mean =                 2.12594296336556\n",
      "RMS for train test median =               2.0626800767688382\n",
      "RMS for valid and vali train mean =       0.33545171363780213\n",
      "RMS for valid and vali train median =     0.33315423015688783\n"
     ]
    }
   ],
   "source": [
    "train = syw[:442]\n",
    "test = syw[442:664]\n",
    "vali_train = syw[:664]\n",
    "vali = syw[664:]\n",
    "\n",
    "y_hat_avg = test.copy()\n",
    "y_hat_avg['moving_avg_forecast'] = train['cost_per_watt'].rolling(3).mean().iloc[-1]\n",
    "y_hat_avg['moving_avg_forecastmed'] = train['cost_per_watt'].rolling(3).median().iloc[-1]\n",
    "y_hat_avgv = vali.copy()\n",
    "y_hat_avgv['moving_avg_forecast'] = vali_train['cost_per_watt'].rolling(3).mean().iloc[-1]\n",
    "y_hat_avgv['moving_avg_forecastmed'] = vali_train['cost_per_watt'].rolling(3).median().iloc[-1]\n",
    "\n",
    "plt.figure(figsize=(25,15))\n",
    "plt.title('Prediction by Mean/Median with Various Rolls')\n",
    "plt.plot(train['cost_per_watt'], label='Train')\n",
    "plt.plot(test['cost_per_watt'], label='Test')\n",
    "plt.plot(vali['cost_per_watt'], label='Validation')\n",
    "plt.plot(y_hat_avg['moving_avg_forecast'], label='Moving Average Forecast Mean 3 Roll')\n",
    "plt.plot(y_hat_avg['moving_avg_forecastmed'], label='Moving Average Forecast Median 3 Roll')\n",
    "plt.plot(y_hat_avgv['moving_avg_forecast'], label='Valid Set Moving Average Forecast Mean 3 Roll')\n",
    "plt.plot(y_hat_avgv['moving_avg_forecastmed'], label='Valid Set Moving Average Forecast Median 3 Roll')\n",
    "\n",
    "plt.legend(loc='best')\n",
    "plt.show()\n",
    "\n",
    "rms = sqrt(mean_squared_error(test.cost_per_watt, y_hat_avg.moving_avg_forecast))\n",
    "rmsm = sqrt(mean_squared_error(test.cost_per_watt, y_hat_avg.moving_avg_forecastmed))\n",
    "print('RMS for train test mean =                ' , rms)\n",
    "print('RMS for train test median =              ' , rmsm)\n",
    "rmsv = sqrt(mean_squared_error(vali.cost_per_watt, y_hat_avgv.moving_avg_forecast))\n",
    "rmsvm = sqrt(mean_squared_error(vali.cost_per_watt, y_hat_avgv.moving_avg_forecastmed))\n",
    "print('RMS for valid and vali train mean =      ' , rmsv)\n",
    "print('RMS for valid and vali train median =    ' , rmsvm)"
   ]
  },
  {
   "cell_type": "code",
   "execution_count": 55,
   "metadata": {
    "jupyter": {
     "source_hidden": true
    }
   },
   "outputs": [
    {
     "data": {
      "image/png": "[encoded data removed]",
      "text/plain": [
       "<Figure size 1080x720 with 1 Axes>"
      ]
     },
     "metadata": {
      "needs_background": "light"
     },
     "output_type": "display_data"
    },
    {
     "name": "stdout",
     "output_type": "stream",
     "text": [
      "RMS =  0.6740504950763149\n"
     ]
    }
   ],
   "source": [
    "train = syw[:710]\n",
    "test = syw[710:]\n",
    "\n",
    "y_hat_avg = test.copy()\n",
    "y_hat_avg['moving_avg_forecast'] = train['cost_per_watt'].rolling(3).mean().iloc[-1]\n",
    "y_hat_avg['moving_avg_forecastmed'] = train['cost_per_watt'].rolling(3).median().iloc[-1]\n",
    "\n",
    "plt.figure(figsize=(15,10))\n",
    "plt.title('Prediction by Mean/Median with Various Rolls')\n",
    "plt.plot(train['cost_per_watt'], label='Train')\n",
    "plt.plot(test['cost_per_watt'], label='Test')\n",
    "plt.plot(y_hat_avg['moving_avg_forecast'], label='Moving Average Forecast Mean 3 Roll')\n",
    "plt.plot(y_hat_avg['moving_avg_forecastroll52'], label='Moving Average Forecast Mean 52 Roll')\n",
    "plt.plot(y_hat_avg['moving_avg_forecastmed3'], label='Moving Average Forecast  Median 3 Roll')\n",
    "plt.plot(y_hat_avg['moving_avg_forecastmed52'], label='Moving Average Forecast  Median 52 Roll')\n",
    "plt.legend(loc='best')\n",
    "plt.show()\n",
    "\n",
    "\n",
    "rms = sqrt(mean_squared_error(test.cost_per_watt, y_hat_avg.moving_avg_forecast))\n",
    "print('RMS = ' , rms)"
   ]
  },
  {
   "cell_type": "code",
   "execution_count": null,
   "metadata": {
    "jupyter": {
     "source_hidden": true
    }
   },
   "outputs": [],
   "source": [
    "# yw = resamp_lag_ols(df)\n",
    "# lagg_cost = create_lag(yw)\n",
    "\n",
    "# ywn = pd.DataFrame(yw.cost_per_watt).dropna()\n",
    "\n",
    "#Box Jenkins Method\n",
    "fig, axs = plt.subplots(2, figsize=(16, 6))\n",
    "plot_acf_and_pacf(ywn, axs)\n",
    "plt.tight_layout()\n",
    "\n",
    "weekly_differences = ywn.diff(periods=1)\n",
    "\n",
    "fig, axs = plt.subplots(3, figsize=(16, 8))\n",
    "\n",
    "axs[0].plot(weekly_differences.index, weekly_differences)\n",
    "# The first entry in the differenced series is NaN.\n",
    "plot_acf_and_pacf(weekly_differences[1:], axs[1:])\n",
    "plt.tight_layout()\n",
    "test = sm.tsa.stattools.adfuller(weekly_differences[1:])\n",
    "print(\"ADF p-value: {0:2.2f}\".format(test[1]))\n",
    "\n",
    "X = add_constant(np.arange(1, len(ywn) + 1))\n",
    "y = ywn\n",
    "\n",
    "linear_trend = sm.OLS(y, X).fit().predict(X)\n",
    "\n",
    "fig, ax = plt.subplots(1, figsize=(16, 3))\n",
    "\n",
    "ax.plot(ywn.index, ywn)\n",
    "ax.plot(ywn.index, linear_trend)\n",
    "ax.set_title(\"Weekly Median Cost Per Watt Over Time with Trendline\")\n",
    "\n",
    "linear_trend\n",
    "\n",
    "linear_model = sm.OLS(y, X).fit()\n",
    "linear_trend = linear_model.predict(X)\n",
    "\n",
    "lm_residuals = pd.Series(ywn.cost_per_watt -linear_trend, index=ywn.index)\n",
    "\n",
    "lm_residuals\n",
    "\n",
    "fig, axs = plt.subplots(3, figsize=(16, 8))\n",
    "# The model predicts zero for the first few datapoints, so the residuals\n",
    "# are the actual values.\n",
    "axs[0].plot(lm_residuals.index, lm_residuals)\n",
    "plot_acf_and_pacf(lm_residuals, axs[1:])\n",
    "plt.tight_layout()\n",
    "\n",
    "lm_residual_model = ARIMA(\n",
    "    lm_residuals, order=( 1, 1, 1)).fit()\n",
    "\n",
    "fig, axs = plt.subplots(3, figsize=(16, 8))\n",
    "\n",
    "axs[0].plot(lm_residual_model.resid.index,\n",
    "            lm_residual_model.resid)\n",
    "plot_acf_and_pacf(lm_residual_model.resid, axs[1:])\n",
    "plt.tight_layout()\n",
    "\n",
    "ywn\n",
    "\n",
    "arima_preds = lm_residual_model.predict(ywn.index.max(), pd.to_datetime('2019-01-06').tz_localize('UTC'), dynamic=True)\n",
    "\n",
    "# long_df['Week'] = long_df.index.date\n",
    "\n",
    "arima_preds\n",
    "\n",
    "X = np.column_stack([ywn,\n",
    "                     add_constant(np.arange(1, len(ywn) + 1))])\n",
    "\n",
    "lm_preds = pd.Series(\n",
    "    linear_model.predict(X),\n",
    "    index=ywn.index)\n",
    "\n",
    "lm_preds= lm_preds[arima_preds.index.min():]"
   ]
  },
  {
   "cell_type": "code",
   "execution_count": 79,
   "metadata": {
    "collapsed": true,
    "jupyter": {
     "outputs_hidden": true
    }
   },
   "outputs": [
    {
     "data": {
      "text/html": [
       "<div>\n",
       "<style scoped>\n",
       "    .dataframe tbody tr th:only-of-type {\n",
       "        vertical-align: middle;\n",
       "    }\n",
       "\n",
       "    .dataframe tbody tr th {\n",
       "        vertical-align: top;\n",
       "    }\n",
       "\n",
       "    .dataframe thead th {\n",
       "        text-align: right;\n",
       "    }\n",
       "</style>\n",
       "<table border=\"1\" class=\"dataframe\">\n",
       "  <thead>\n",
       "    <tr style=\"text-align: right;\">\n",
       "      <th></th>\n",
       "      <th>cost_per_watt</th>\n",
       "    </tr>\n",
       "    <tr>\n",
       "      <th>installation_date</th>\n",
       "      <th></th>\n",
       "    </tr>\n",
       "  </thead>\n",
       "  <tbody>\n",
       "    <tr>\n",
       "      <td>2002-01-06</td>\n",
       "      <td>12.935</td>\n",
       "    </tr>\n",
       "    <tr>\n",
       "      <td>2002-01-13</td>\n",
       "      <td>12.670</td>\n",
       "    </tr>\n",
       "    <tr>\n",
       "      <td>2002-01-20</td>\n",
       "      <td>12.110</td>\n",
       "    </tr>\n",
       "    <tr>\n",
       "      <td>2002-01-27</td>\n",
       "      <td>11.950</td>\n",
       "    </tr>\n",
       "    <tr>\n",
       "      <td>2002-02-03</td>\n",
       "      <td>11.820</td>\n",
       "    </tr>\n",
       "    <tr>\n",
       "      <td>...</td>\n",
       "      <td>...</td>\n",
       "    </tr>\n",
       "    <tr>\n",
       "      <td>2018-12-09</td>\n",
       "      <td>3.790</td>\n",
       "    </tr>\n",
       "    <tr>\n",
       "      <td>2018-12-16</td>\n",
       "      <td>3.850</td>\n",
       "    </tr>\n",
       "    <tr>\n",
       "      <td>2018-12-23</td>\n",
       "      <td>3.890</td>\n",
       "    </tr>\n",
       "    <tr>\n",
       "      <td>2018-12-30</td>\n",
       "      <td>3.850</td>\n",
       "    </tr>\n",
       "    <tr>\n",
       "      <td>2019-01-06</td>\n",
       "      <td>3.900</td>\n",
       "    </tr>\n",
       "  </tbody>\n",
       "</table>\n",
       "<p>888 rows × 1 columns</p>\n",
       "</div>"
      ],
      "text/plain": [
       "                   cost_per_watt\n",
       "installation_date               \n",
       "2002-01-06                12.935\n",
       "2002-01-13                12.670\n",
       "2002-01-20                12.110\n",
       "2002-01-27                11.950\n",
       "2002-02-03                11.820\n",
       "...                          ...\n",
       "2018-12-09                 3.790\n",
       "2018-12-16                 3.850\n",
       "2018-12-23                 3.890\n",
       "2018-12-30                 3.850\n",
       "2019-01-06                 3.900\n",
       "\n",
       "[888 rows x 1 columns]"
      ]
     },
     "execution_count": 79,
     "metadata": {},
     "output_type": "execute_result"
    }
   ],
   "source": [
    "syw"
   ]
  },
  {
   "cell_type": "code",
   "execution_count": 81,
   "metadata": {},
   "outputs": [],
   "source": [
    "weekly_differences = syw.diff(periods=1)"
   ]
  },
  {
   "cell_type": "code",
   "execution_count": 82,
   "metadata": {},
   "outputs": [],
   "source": [
    "wd = np.array(weekly_differences)\n",
    "\n",
    "sywa = np.array(syw)"
   ]
  },
  {
   "cell_type": "code",
   "execution_count": 83,
   "metadata": {},
   "outputs": [
    {
     "data": {
      "text/plain": [
       "ARIMA(maxiter=50, method='lbfgs', order=(4, 0, 3), out_of_sample_size=0,\n",
       "      scoring='mse', scoring_args=None, seasonal_order=(0, 0, 0, 0),\n",
       "      start_params=None, suppress_warnings=False, trend=None,\n",
       "      with_intercept=True)"
      ]
     },
     "execution_count": 83,
     "metadata": {},
     "output_type": "execute_result"
    }
   ],
   "source": [
    "auto_arima(wd[1:])"
   ]
  },
  {
   "cell_type": "code",
   "execution_count": 84,
   "metadata": {},
   "outputs": [
    {
     "data": {
      "text/plain": [
       "ARIMA(maxiter=50, method='lbfgs', order=(4, 1, 3), out_of_sample_size=0,\n",
       "      scoring='mse', scoring_args=None, seasonal_order=(0, 0, 0, 0),\n",
       "      start_params=None, suppress_warnings=False, trend=None,\n",
       "      with_intercept=True)"
      ]
     },
     "execution_count": 84,
     "metadata": {},
     "output_type": "execute_result"
    }
   ],
   "source": [
    "auto_arima(sywa)"
   ]
  },
  {
   "cell_type": "code",
   "execution_count": 85,
   "metadata": {},
   "outputs": [
    {
     "name": "stdout",
     "output_type": "stream",
     "text": [
      "                               SARIMAX Results                                \n",
      "==============================================================================\n",
      "Dep. Variable:          cost_per_watt   No. Observations:                  888\n",
      "Model:                 ARIMA(2, 0, 4)   Log Likelihood                -263.866\n",
      "Date:                Mon, 16 Mar 2020   AIC                            543.731\n",
      "Time:                        19:03:46   BIC                            582.043\n",
      "Sample:                    01-06-2002   HQIC                           558.376\n",
      "                         - 01-06-2019                                         \n",
      "Covariance Type:                  opg                                         \n",
      "==============================================================================\n",
      "                 coef    std err          z      P>|z|      [0.025      0.975]\n",
      "------------------------------------------------------------------------------\n",
      "const         -0.0098      0.002     -4.214      0.000      -0.014      -0.005\n",
      "ar.L1         -0.9428      0.058    -16.331      0.000      -1.056      -0.830\n",
      "ar.L2         -0.8386      0.046    -18.219      0.000      -0.929      -0.748\n",
      "ma.L1          0.0819      0.056      1.462      0.144      -0.028       0.192\n",
      "ma.L2          0.0207      0.054      0.381      0.703      -0.086       0.127\n",
      "ma.L3         -0.6176      0.051    -12.036      0.000      -0.718      -0.517\n",
      "ma.L4          0.0134      0.026      0.520      0.603      -0.037       0.064\n",
      "sigma2         0.1071      0.002     69.042      0.000       0.104       0.110\n",
      "===================================================================================\n",
      "Ljung-Box (Q):                      105.80   Jarque-Bera (JB):             25868.94\n",
      "Prob(Q):                              0.00   Prob(JB):                         0.00\n",
      "Heteroskedasticity (H):               0.06   Skew:                             1.41\n",
      "Prob(H) (two-sided):                  0.00   Kurtosis:                        29.29\n",
      "===================================================================================\n",
      "\n",
      "Warnings:\n",
      "[1] Covariance matrix calculated using the outer product of gradients (complex-step).\n"
     ]
    }
   ],
   "source": [
    "mod = ARIMA(weekly_differences, order=(2, 0, 4))\n",
    "res = mod.fit()\n",
    "print(res.summary())"
   ]
  },
  {
   "cell_type": "code",
   "execution_count": null,
   "metadata": {},
   "outputs": [],
   "source": [
    "lm_residual_model = ARIMA(\n",
    "    lm_residuals, order=( 2, 0, 4)).fit()"
   ]
  },
  {
   "cell_type": "code",
   "execution_count": null,
   "metadata": {},
   "outputs": [],
   "source": [
    "fig, axs = plt.subplots(3, figsize=(16, 8))\n",
    "\n",
    "axs[0].plot(lm_residual_model.resid.index,\n",
    "            lm_residual_model.resid)\n",
    "plot_acf_and_pacf(lm_residual_model.resid, axs[1:])\n",
    "plt.tight_layout()"
   ]
  },
  {
   "cell_type": "code",
   "execution_count": null,
   "metadata": {},
   "outputs": [],
   "source": [
    "arima_preds = lm_residual_model.predict(ywn.index.max(), pd.to_datetime('2019-01-06').tz_localize('UTC'), dynamic=True)"
   ]
  },
  {
   "cell_type": "code",
   "execution_count": null,
   "metadata": {},
   "outputs": [],
   "source": [
    "arima_preds"
   ]
  },
  {
   "cell_type": "raw",
   "metadata": {},
   "source": [
    "arima_preds = lm_residual_model.predict(weekly_differences.index.max(), pd.to_datetime('2019-01-06').tz_localize('UTC'), dynamic=True)"
   ]
  },
  {
   "cell_type": "code",
   "execution_count": null,
   "metadata": {},
   "outputs": [],
   "source": []
  },
  {
   "cell_type": "code",
   "execution_count": null,
   "metadata": {},
   "outputs": [],
   "source": []
  },
  {
   "cell_type": "code",
   "execution_count": null,
   "metadata": {},
   "outputs": [],
   "source": []
  },
  {
   "cell_type": "code",
   "execution_count": null,
   "metadata": {},
   "outputs": [],
   "source": []
  },
  {
   "cell_type": "code",
   "execution_count": null,
   "metadata": {},
   "outputs": [],
   "source": [
    "from statsmodels.tsa.arima.model import ARIMA"
   ]
  },
  {
   "cell_type": "code",
   "execution_count": null,
   "metadata": {},
   "outputs": [],
   "source": [
    "y_hat_avg = weekly_differences.copy()\n",
    "fit1 = ARIMA(df['cost_per_watt'], order=(2, 0, 4)).fit()\n",
    "y_hat_avg['ARIMA'] = fit1.predict(start=\"2019-1-6\", end=\"2020-1-6\", dynamic=True)\n",
    "plt.figure(figsize=(16,8))\n",
    "plt.plot(df['cost_per_watt'], label='Cost Per Watt')\n",
    "plt.plot(y_hat_avg['ARIMA'], label='ARIMA')\n",
    "plt.legend(loc='best')\n",
    "plt.show()\n",
    "model_type = 'ARIMA'\n",
    "print('RMS Score:',  rms_score(df, model_type))"
   ]
  },
  {
   "cell_type": "markdown",
   "metadata": {},
   "source": [
    "get p and q by reviewing AC and PAC - look at at which value the line drops below y-axis 0"
   ]
  },
  {
   "cell_type": "code",
   "execution_count": null,
   "metadata": {},
   "outputs": [],
   "source": [
    "X = add_constant(np.arange(1, len(syw) + 1))\n",
    "y = syw\n",
    "rf = RandomForestRegressor(oob_score=True,n_jobs=-1)\n",
    "rf.fit(X,y)\n",
    "\n",
    "print('OOB Score: {}'.format(rf.oob_score_))\n",
    "print('r2 score on test: {}'.format(rf.score(X,y)))\n",
    "\n",
    "rf_predict = rf.predict(X)\n",
    "mse = mean_squared_error(y,rf_predict)\n",
    "\n",
    "print('MSE: {}'.format(mse))"
   ]
  },
  {
   "cell_type": "code",
   "execution_count": null,
   "metadata": {},
   "outputs": [],
   "source": [
    "weekly_differences = syw.diff(periods=1)"
   ]
  },
  {
   "cell_type": "code",
   "execution_count": null,
   "metadata": {},
   "outputs": [],
   "source": [
    "w_diff = weekly_differences[1:]"
   ]
  },
  {
   "cell_type": "code",
   "execution_count": null,
   "metadata": {},
   "outputs": [],
   "source": [
    "w_diff"
   ]
  },
  {
   "cell_type": "code",
   "execution_count": null,
   "metadata": {},
   "outputs": [],
   "source": [
    "def series_and_lagged(series, lag=1):\n",
    "    truncated = np.copy(series)[lag:]\n",
    "    lagged = np.copy(series)[:(len(truncated))]\n",
    "    return truncated, lagged\n",
    "\n",
    "def compute_autocorrelation(series, lag=1):\n",
    "    series, lagged = series_and_lagged(series, lag=lag)\n",
    "    return np.corrcoef(series, lagged)[0, 1]"
   ]
  },
  {
   "cell_type": "code",
   "execution_count": null,
   "metadata": {},
   "outputs": [],
   "source": [
    "fig, axs = plt.subplots(3, 3, figsize=(8, 8))\n",
    "\n",
    "lags = [1,2,3,4,5,6,7,8,52]\n",
    "\n",
    "for i, ax in zip(lags,axs.flatten()):\n",
    "    series, lagged = series_and_lagged(w_diff, lag=i)\n",
    "    autocorr = compute_autocorrelation(w_diff, lag=i)\n",
    "    ax.scatter(series, lagged, alpha=0.5)\n",
    "    ax.set_title(\"Lag {0} AC: {1:2.2f}\".format(i, autocorr))\n",
    "    \n",
    "plt.tight_layout()"
   ]
  },
  {
   "cell_type": "code",
   "execution_count": null,
   "metadata": {},
   "outputs": [],
   "source": [
    "def fit_ar_model(series, order):\n",
    "    # ARIMA is a more general model, which we are going to build up\n",
    "    # in pieces.\n",
    "    model = ARIMA(series, order=(order, 0, 0))\n",
    "    return model.fit()"
   ]
  },
  {
   "cell_type": "code",
   "execution_count": null,
   "metadata": {},
   "outputs": [],
   "source": [
    "for coef in ar_coefs:\n",
    "    ar_series = auto_regressive_process(size=250, coefs=coef)\n",
    "    ar_model = fit_ar_model(ar_series.values, order=(len(coef)))\n",
    "    print(\"True Coefficients: {0: <26} Estimated Coefficients: {1: <26}\".format(\n",
    "            str(format_list_of_floats(coef)),\n",
    "            str(format_list_of_floats(ar_model.params[1:]))))"
   ]
  },
  {
   "cell_type": "code",
   "execution_count": null,
   "metadata": {},
   "outputs": [],
   "source": [
    "def format_list_of_floats(L):\n",
    "    return [\"{0:2.2f}\".format(f) for f in L]"
   ]
  },
  {
   "cell_type": "code",
   "execution_count": null,
   "metadata": {},
   "outputs": [],
   "source": [
    "def auto_regressive_process(size, coefs, init=None):\n",
    "    \"\"\"Generate an autoregressive process with Gaussian white noise.  The\n",
    "    implementation is taken from here:\n",
    "    \n",
    "      http://numpy-discussion.10968.n7.nabble.com/simulate-AR-td8236.html\n",
    "      \n",
    "    Exaclty how lfilter works here takes some pen and paper effort.\n",
    "    \"\"\"\n",
    "    coefs = np.asarray(coefs)\n",
    "    if init == None:\n",
    "        init = np.array([0]*len(coef))\n",
    "    else:\n",
    "        init = np.asarray(init)\n",
    "    init = np.append(init, np.random.normal(size=(size - len(init))))\n",
    "    assert(len(init) == size)\n",
    "    a = np.append(np.array([1]), -coefs)\n",
    "    b = np.array([1])\n",
    "    return pd.Series(signal.lfilter(b, a, init))\n"
   ]
  },
  {
   "cell_type": "code",
   "execution_count": null,
   "metadata": {},
   "outputs": [],
   "source": [
    "mod = ARIMA(weekly_differences, order=(2, 0, 4))\n",
    "res = ARIMA(weekly_differences, order=(2, 0, 4)).fit()\n",
    "\n",
    "print(\"ARIMA(2, 0, 4) coefficients from model:\\n  Intercept {0:2.2f}\\n  AR {1}\".format(\n",
    "    res.params[0], \n",
    "        format_list_of_floats(list(res.params[1:]))))"
   ]
  },
  {
   "cell_type": "code",
   "execution_count": null,
   "metadata": {},
   "outputs": [],
   "source": []
  },
  {
   "cell_type": "code",
   "execution_count": null,
   "metadata": {},
   "outputs": [],
   "source": [
    "fig, ax = plt.subplots(4, figsize=(14, 8))\n",
    "\n",
    "ax[0].plot(weekly_differences.index, weekly_differences)\n",
    "ax[0].set_title(\"First Differences of Solar Data\")\n",
    "\n",
    "for i in range(1, 4):\n",
    "    simulated_data = auto_regressive_process(len(weekly_differences), list(res.params)[1:])\n",
    "    simulated_data.index = weekly_differences.index\n",
    "    ax[i].plot(simulated_data.index, simulated_data)\n",
    "    ax[i].set_title(\"Simulated Data from Solar Model Fit\")\n",
    "    \n",
    "plt.tight_layout()\n"
   ]
  },
  {
   "cell_type": "code",
   "execution_count": null,
   "metadata": {},
   "outputs": [],
   "source": [
    "syw"
   ]
  },
  {
   "cell_type": "code",
   "execution_count": null,
   "metadata": {},
   "outputs": [],
   "source": [
    "statsmodels.tsa.arima_model.ARIMAResults.plot_predict"
   ]
  },
  {
   "cell_type": "code",
   "execution_count": null,
   "metadata": {},
   "outputs": [],
   "source": [
    "res.predict()"
   ]
  },
  {
   "cell_type": "code",
   "execution_count": null,
   "metadata": {},
   "outputs": [],
   "source": []
  },
  {
   "cell_type": "code",
   "execution_count": null,
   "metadata": {},
   "outputs": [],
   "source": [
    "res = ARIMA(weekly_differences, order=(2, 0, 4)).fit()"
   ]
  },
  {
   "cell_type": "code",
   "execution_count": null,
   "metadata": {},
   "outputs": [],
   "source": [
    "from statsmodels.tsa.arima.model import ARIMAResults"
   ]
  },
  {
   "cell_type": "code",
   "execution_count": null,
   "metadata": {},
   "outputs": [],
   "source": [
    "#variance/ covariance matrix\n",
    "ARIMAResults.cov_params(res)"
   ]
  },
  {
   "cell_type": "code",
   "execution_count": null,
   "metadata": {},
   "outputs": [],
   "source": [
    "ARIMAResults.forecast(res, steps = 52,).plot()"
   ]
  },
  {
   "cell_type": "code",
   "execution_count": null,
   "metadata": {},
   "outputs": [],
   "source": [
    "ARIMAResults.summary()"
   ]
  },
  {
   "cell_type": "code",
   "execution_count": null,
   "metadata": {},
   "outputs": [],
   "source": [
    "fig, ax = plt.subplots(1, figsize=(14, 4))\n",
    "ax.plot()"
   ]
  },
  {
   "cell_type": "code",
   "execution_count": null,
   "metadata": {},
   "outputs": [],
   "source": [
    "ARIMAResults.predict(res,start = '2018-12-09', end= '2020', dynamic=True).plot()"
   ]
  },
  {
   "cell_type": "code",
   "execution_count": null,
   "metadata": {},
   "outputs": [],
   "source": [
    "ARIMAResults.info_criteria(res, 'aic')\n",
    "ARIMAResults.info_criteria(res, 'bic')"
   ]
  },
  {
   "cell_type": "code",
   "execution_count": null,
   "metadata": {},
   "outputs": [],
   "source": [
    "ARIMAResults.predict(w_diff.cost_per_watt)"
   ]
  },
  {
   "cell_type": "code",
   "execution_count": null,
   "metadata": {},
   "outputs": [],
   "source": [
    "res.arparams"
   ]
  },
  {
   "cell_type": "code",
   "execution_count": null,
   "metadata": {},
   "outputs": [],
   "source": [
    "#standard erorrs\n",
    "res.bse"
   ]
  },
  {
   "cell_type": "code",
   "execution_count": null,
   "metadata": {},
   "outputs": [],
   "source": [
    "res.llf"
   ]
  },
  {
   "cell_type": "code",
   "execution_count": null,
   "metadata": {},
   "outputs": [],
   "source": [
    "res.llf_obs"
   ]
  },
  {
   "cell_type": "code",
   "execution_count": null,
   "metadata": {},
   "outputs": [],
   "source": [
    "res.maparams"
   ]
  },
  {
   "cell_type": "code",
   "execution_count": null,
   "metadata": {},
   "outputs": [],
   "source": [
    "res.maroots"
   ]
  },
  {
   "cell_type": "code",
   "execution_count": null,
   "metadata": {},
   "outputs": [],
   "source": [
    "res.pvalues"
   ]
  },
  {
   "cell_type": "code",
   "execution_count": null,
   "metadata": {},
   "outputs": [],
   "source": [
    "res.resid"
   ]
  },
  {
   "cell_type": "code",
   "execution_count": null,
   "metadata": {},
   "outputs": [],
   "source": [
    "w_diff.plot()"
   ]
  },
  {
   "cell_type": "code",
   "execution_count": null,
   "metadata": {},
   "outputs": [],
   "source": [
    "plt.figure(figsize=(16,8))\n",
    "plt.plot(res.predict(), label='Full Predictions')\n",
    "plt.plot(w_diff, label='Weekly_Differences')\n",
    "plt.plot(pred, label = 'Future Predictions')\n",
    "plt.plot(preds, label= 'Predictions from 2016 -')\n",
    "#plt.plot(syw, label = 'Full Data')\n",
    "plt.legend(loc='best')\n",
    "plt.show()\n"
   ]
  },
  {
   "cell_type": "code",
   "execution_count": null,
   "metadata": {},
   "outputs": [],
   "source": [
    "plt.figure(figsize=(16,8))\n",
    "plt.plot(res.predict(end = '2020'), label='Full Predictions')\n",
    "plt.plot(w_diff, label='Weekly_Differences')\n",
    "#plt.plot(pred, label = 'Future Predictions')\n",
    "plt.plot(preds, label= 'Predictions from 2016 - 2020')\n",
    "plt.legend(loc='best')\n",
    "plt.show()\n"
   ]
  },
  {
   "cell_type": "code",
   "execution_count": null,
   "metadata": {},
   "outputs": [],
   "source": [
    "mod.fit()"
   ]
  },
  {
   "cell_type": "code",
   "execution_count": null,
   "metadata": {},
   "outputs": [],
   "source": [
    "mod.fit()"
   ]
  },
  {
   "cell_type": "code",
   "execution_count": null,
   "metadata": {},
   "outputs": [],
   "source": [
    "w_diff.loc[w_diff.index.year > 2013]"
   ]
  },
  {
   "cell_type": "code",
   "execution_count": null,
   "metadata": {},
   "outputs": [],
   "source": [
    "pred = res.predict(start = '2018-12-09', end= '2020')"
   ]
  },
  {
   "cell_type": "code",
   "execution_count": null,
   "metadata": {},
   "outputs": [],
   "source": [
    "pred"
   ]
  },
  {
   "cell_type": "code",
   "execution_count": null,
   "metadata": {},
   "outputs": [],
   "source": [
    "preds = res.predict(start= '2016-01-03', end= '2020')"
   ]
  },
  {
   "cell_type": "code",
   "execution_count": null,
   "metadata": {},
   "outputs": [],
   "source": [
    "preds"
   ]
  },
  {
   "cell_type": "code",
   "execution_count": null,
   "metadata": {},
   "outputs": [],
   "source": [
    "plt.plot(res.predict(end = '2020'), label='Full Predictions')\n",
    "plt.plot(w_diff, label='Weekly_Differences')\n",
    "#plt.plot(pred, label = 'Future Predictions')\n",
    "plt.plot(preds, label= 'Predictions from 2016 - 2020')"
   ]
  },
  {
   "cell_type": "code",
   "execution_count": null,
   "metadata": {},
   "outputs": [],
   "source": [
    "all_year_preds = res.predict(end = '2020')\n",
    "last_four_preds = res.predict(start= '2016-01-03', end= '2020')"
   ]
  },
  {
   "cell_type": "code",
   "execution_count": null,
   "metadata": {},
   "outputs": [],
   "source": [
    "w_diff"
   ]
  },
  {
   "cell_type": "code",
   "execution_count": null,
   "metadata": {},
   "outputs": [],
   "source": [
    "res.plot_diagnostics()"
   ]
  },
  {
   "cell_type": "code",
   "execution_count": null,
   "metadata": {},
   "outputs": [],
   "source": [
    "def forecast_accuracy(forecast, actual):\n",
    "    mape = np.mean(np.abs(forecast - actual)/np.abs(actual))  # MAPE\n",
    "    me = np.mean(forecast - actual)             # ME\n",
    "    mae = np.mean(np.abs(forecast - actual))    # MAE\n",
    "    mpe = np.mean((forecast - actual)/actual)   # MPE\n",
    "    rmse = np.mean((forecast - actual)**2)**.5  # RMSE\n",
    "    corr = np.corrcoef(forecast, actual)[0,1]   # corr\n",
    "    #mins = np.amin(np.hstack([forecast[:,None], \n",
    "                              #actual[:,None]]), axis=1)\n",
    "    #maxs = np.amax(np.hstack([forecast[:,None], \n",
    "                              #actual[:,None]]), axis=1)\n",
    "    #minmax = 1 - np.mean(mins/maxs)             # minmax\n",
    "    #acf1 = acf(fc-test)[1]                      # ACF1\n",
    "    #return({'Mean Absolute Percentage Error':mape, 'Mean Error':me, 'Mean Absolute Error ': mae, \n",
    "            #'Mean Percentage Error': mpe, 'Root Mean Squared Error ':rmse, #'Lag 1 Autocorrelation of Error':acf1, \n",
    "            #'Correlation between the Actual and the Forecast':corr}) #'Min-Max Error ':minmax})\n",
    "    print('Mean Absolute Percentage Error:  ', mape, '\\nMean Error:                      ',me, '\\nMean Absolute Error :            ', mae, \n",
    "            '\\nMean Percentage Error:           ', mpe, '\\nRoot Mean Squared Error :        ',rmse, #'Lag 1 Autocorrelation of Error':acf1, \n",
    "            '\\nCorrelation between the \\nActual and the Forecast:         ',corr) #'Min-Max Error ':minmax})"
   ]
  },
  {
   "cell_type": "code",
   "execution_count": null,
   "metadata": {},
   "outputs": [],
   "source": [
    "forecast_accuracy(forecastt, actual)"
   ]
  },
  {
   "cell_type": "code",
   "execution_count": null,
   "metadata": {},
   "outputs": [],
   "source": [
    "actual = w_diff.cost_per_watt"
   ]
  },
  {
   "cell_type": "code",
   "execution_count": null,
   "metadata": {},
   "outputs": [],
   "source": [
    "forecast = pd.DataFrame(all_year_preds[1:])\n",
    "forecast = forecast[0]\n",
    "forecastt =  forecast.loc[forecast.index < '2019-01-07']"
   ]
  },
  {
   "cell_type": "code",
   "execution_count": null,
   "metadata": {},
   "outputs": [],
   "source": [
    "np.mean(np.abs(w_diff))"
   ]
  },
  {
   "cell_type": "code",
   "execution_count": null,
   "metadata": {},
   "outputs": [],
   "source": []
  },
  {
   "cell_type": "code",
   "execution_count": null,
   "metadata": {},
   "outputs": [],
   "source": [
    "res.predict(1,)"
   ]
  },
  {
   "cell_type": "code",
   "execution_count": null,
   "metadata": {},
   "outputs": [],
   "source": [
    "X"
   ]
  },
  {
   "cell_type": "code",
   "execution_count": null,
   "metadata": {},
   "outputs": [],
   "source": []
  },
  {
   "cell_type": "code",
   "execution_count": null,
   "metadata": {},
   "outputs": [],
   "source": [
    "from sklearn.model_selection import TimeSeriesSplit "
   ]
  },
  {
   "cell_type": "code",
   "execution_count": null,
   "metadata": {},
   "outputs": [],
   "source": [
    "week_differences"
   ]
  },
  {
   "cell_type": "code",
   "execution_count": null,
   "metadata": {},
   "outputs": [],
   "source": [
    "s_lagg"
   ]
  },
  {
   "cell_type": "code",
   "execution_count": null,
   "metadata": {},
   "outputs": [],
   "source": [
    "weekly_differences = s_lagg.diff(periods=1)"
   ]
  },
  {
   "cell_type": "code",
   "execution_count": null,
   "metadata": {},
   "outputs": [],
   "source": [
    "weekly_differences.dropna(inplace=True)"
   ]
  },
  {
   "cell_type": "code",
   "execution_count": null,
   "metadata": {},
   "outputs": [],
   "source": [
    "weekly_differences.dropna().drop(['y'], axis=1)"
   ]
  },
  {
   "cell_type": "code",
   "execution_count": null,
   "metadata": {},
   "outputs": [],
   "source": [
    "weekly_differences.y.dropna()"
   ]
  },
  {
   "cell_type": "code",
   "execution_count": null,
   "metadata": {},
   "outputs": [],
   "source": [
    "X_train"
   ]
  },
  {
   "cell_type": "code",
   "execution_count": null,
   "metadata": {},
   "outputs": [],
   "source": [
    "y.dropna"
   ]
  },
  {
   "cell_type": "code",
   "execution_count": null,
   "metadata": {},
   "outputs": [],
   "source": [
    "test_index = int(len(X)*(1-.2))"
   ]
  },
  {
   "cell_type": "code",
   "execution_count": null,
   "metadata": {},
   "outputs": [],
   "source": [
    "y_train"
   ]
  },
  {
   "cell_type": "code",
   "execution_count": null,
   "metadata": {},
   "outputs": [],
   "source": [
    "weekly_differences"
   ]
  },
  {
   "cell_type": "code",
   "execution_count": null,
   "metadata": {},
   "outputs": [],
   "source": [
    "y = weekly_differences.y.dropna()\n",
    "X = weekly_differences.dropna().drop(['y'], axis=1)"
   ]
  },
  {
   "cell_type": "code",
   "execution_count": null,
   "metadata": {},
   "outputs": [],
   "source": [
    "# reserve 20% of data for testing\n",
    "X_train, X_test, y_train, y_test = timeseries_train_test_split(X, y, test_size=0.2)"
   ]
  },
  {
   "cell_type": "code",
   "execution_count": null,
   "metadata": {},
   "outputs": [],
   "source": [
    "def mean_absolute_percentage_error(y_true, y_pred): \n",
    "    return np.mean(np.abs((y_true - y_pred) / y_true)) * 100"
   ]
  },
  {
   "cell_type": "code",
   "execution_count": null,
   "metadata": {},
   "outputs": [],
   "source": [
    "coefs"
   ]
  },
  {
   "cell_type": "code",
   "execution_count": null,
   "metadata": {},
   "outputs": [],
   "source": [
    "lr = LinearRegression()\n",
    "lr.fit(X_train, y_train)\n",
    "\n",
    "plotModelResults(lr, plot_intervals=True)\n",
    "plotCoefficients(lr)"
   ]
  },
  {
   "cell_type": "code",
   "execution_count": null,
   "metadata": {},
   "outputs": [],
   "source": [
    "tscv = TimeSeriesSplit(n_splits=3)\n",
    "\n",
    "def timeseries_train_test_split(X, y, test_size):\n",
    "    \"\"\"\n",
    "        Perform train-test split with respect to time series structure\n",
    "    \"\"\"\n",
    "    \n",
    "    # get the index after which test set starts\n",
    "    test_index = int(len(X)*(1-test_size))\n",
    "    \n",
    "    X_train = X.iloc[:test_index]\n",
    "    y_train = y.iloc[:test_index]\n",
    "    X_test = X.iloc[test_index:]\n",
    "    y_test = y.iloc[test_index:]\n",
    "    \n",
    "    return X_train, X_test, y_train, y_test"
   ]
  },
  {
   "cell_type": "code",
   "execution_count": null,
   "metadata": {},
   "outputs": [],
   "source": [
    "timeseries_train_test_split(X,y, test)"
   ]
  },
  {
   "cell_type": "code",
   "execution_count": null,
   "metadata": {},
   "outputs": [],
   "source": [
    "def plotModelResults(model, X_train=X_train, X_test=X_test, plot_intervals=False, plot_anomalies=False, scale=1.96):\n",
    "    \"\"\"\n",
    "        Plots modelled vs fact values, prediction intervals and anomalies\n",
    "    \n",
    "    \"\"\"\n",
    "    \n",
    "    prediction = model.predict(X_test)\n",
    "    \n",
    "    plt.figure(figsize=(15, 7))\n",
    "    plt.plot(prediction, \"g\", label=\"prediction\", linewidth=2.0)\n",
    "    plt.plot(y_test.values, label=\"actual\", linewidth=2.0)\n",
    "    \n",
    "    if plot_intervals:\n",
    "        cv = cross_val_score(model, X_train, y_train, \n",
    "                                    cv=tscv, \n",
    "                                    scoring=\"neg_mean_squared_error\")\n",
    "        #mae = cv.mean() * (-1)\n",
    "        deviation = np.sqrt(cv.std())\n",
    "        \n",
    "        lower = prediction - (scale * deviation)\n",
    "        upper = prediction + (scale * deviation)\n",
    "        \n",
    "        plt.plot(lower, \"r--\", label=\"upper bond / lower bond\", alpha=0.5)\n",
    "        plt.plot(upper, \"r--\", alpha=0.5)\n",
    "        \n",
    "        if plot_anomalies:\n",
    "            anomalies = np.array([np.NaN]*len(y_test))\n",
    "            anomalies[y_test<lower] = y_test[y_test<lower]\n",
    "            anomalies[y_test>upper] = y_test[y_test>upper]\n",
    "            plt.plot(anomalies, \"o\", markersize=10, label = \"Anomalies\")\n",
    "    \n",
    "    error = mean_absolute_percentage_error(prediction, y_test)\n",
    "    print(\"Mean absolute percentage error\", error)\n",
    "    plt.legend(loc=\"best\")\n",
    "    plt.tight_layout()\n",
    "    plt.grid(True);\n",
    "    "
   ]
  },
  {
   "cell_type": "code",
   "execution_count": null,
   "metadata": {},
   "outputs": [],
   "source": [
    "def plotCoefficients(model):\n",
    "    \"\"\"\n",
    "        Plots sorted coefficient values of the model\n",
    "    \"\"\"\n",
    "    \n",
    "    coefs = pd.DataFrame(model.coef_, X_train.columns)\n",
    "    coefs.columns = [\"coef\"]\n",
    "    coefs[\"abs\"] = coefs.coef.apply(np.abs)\n",
    "    coefs = coefs.sort_values(by=\"abs\", ascending=False).drop([\"abs\"], axis=1)\n",
    "    \n",
    "    plt.figure(figsize=(15, 7))\n",
    "    coefs.coef.plot(kind='bar')\n",
    "    plt.grid(True, axis='y')\n",
    "    plt.hlines(y=0, xmin=0, xmax=len(coefs), linestyles='dashed');\n",
    "    \n"
   ]
  },
  {
   "cell_type": "code",
   "execution_count": null,
   "metadata": {},
   "outputs": [],
   "source": [
    "rf = RandomForestRegressor(oob_score=True,n_jobs=-1)\n",
    "rf.fit(X,y)\n",
    "\n",
    "print('OOB Score: {}'.format(rf.oob_score_))\n",
    "print('r2 score on test: {}'.format(rf.score(X,y)))\n",
    "\n",
    "rf_predict = rf.predict(X)\n",
    "mse = mean_squared_error(y,rf_predict)\n",
    "\n",
    "print('MSE: {}'.format(mse))"
   ]
  },
  {
   "cell_type": "code",
   "execution_count": null,
   "metadata": {},
   "outputs": [],
   "source": [
    "thePipe = Pipeline([('RFR', RandomForestRegressor())])"
   ]
  },
  {
   "cell_type": "code",
   "execution_count": null,
   "metadata": {},
   "outputs": [],
   "source": [
    "from sklearn.linear_model import LinearRegression, Ridge"
   ]
  },
  {
   "cell_type": "code",
   "execution_count": null,
   "metadata": {},
   "outputs": [],
   "source": [
    "LinearRegression()"
   ]
  },
  {
   "cell_type": "code",
   "execution_count": null,
   "metadata": {},
   "outputs": [],
   "source": [
    "rf"
   ]
  },
  {
   "cell_type": "code",
   "execution_count": null,
   "metadata": {},
   "outputs": [],
   "source": [
    "py"
   ]
  },
  {
   "cell_type": "code",
   "execution_count": null,
   "metadata": {},
   "outputs": [],
   "source": []
  }
 ],
 "metadata": {
  "kernelspec": {
   "display_name": "Python 3",
   "language": "python",
   "name": "python3"
  },
  "language_info": {
   "codemirror_mode": {
    "name": "ipython",
    "version": 3
   },
   "file_extension": ".py",
   "mimetype": "text/x-python",
   "name": "python",
   "nbconvert_exporter": "python",
   "pygments_lexer": "ipython3",
   "version": "3.7.4"
  }
 },
 "nbformat": 4,
 "nbformat_minor": 4
}
