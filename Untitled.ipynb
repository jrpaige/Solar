{
 "cells": [
  {
   "cell_type": "code",
   "execution_count": 1,
   "metadata": {},
   "outputs": [],
   "source": [
    "from src.Time_Series_First_Model import *\n",
    "from src import Prep\n",
    "from src.Time_Series_Stats_Step import *\n",
    "\n",
    "# from src.Trend_Season_plots import *\n",
    "# # visualization packages\n",
    "import matplotlib.pyplot as plt\n",
    "# %matplotlib inline\n",
    "# import seaborn as sns\n",
    "# sns.set()\n",
    "# import plotly.express as px\n",
    "# plt.style.use('ggplot')\n",
    "# from matplotlib.pylab import rcParams\n",
    "# rcParams['figure.figsize'] = 10, 6\n",
    "\n",
    "import warnings\n",
    "warnings.filterwarnings('ignore')"
   ]
  },
  {
   "cell_type": "code",
   "execution_count": 2,
   "metadata": {},
   "outputs": [],
   "source": [
    "%load_ext autoreload"
   ]
  },
  {
   "cell_type": "code",
   "execution_count": 3,
   "metadata": {},
   "outputs": [],
   "source": [
    "%reload_ext autoreload"
   ]
  },
  {
   "cell_type": "code",
   "execution_count": 4,
   "metadata": {},
   "outputs": [],
   "source": [
    "%autoreload"
   ]
  },
  {
   "cell_type": "code",
   "execution_count": null,
   "metadata": {},
   "outputs": [
    {
     "name": "stdout",
     "output_type": "stream",
     "text": [
      "1 of 11 |    Reading in first dataset. \n",
      "             Using 4/60 features/columns: 'Installation Date', 'System Size', 'Total Installed Price' , 'Customer Segment' \n",
      "             Changing -9999 values to null\n",
      "2 of 11 |    Reading in second dataset. \n",
      "             Using 4/60 features/columns: 'Installation Date', 'System Size', 'Total Installed Price' , 'Customer Segment' \n",
      "             Changing -9999 values to null\n",
      "3 of 11 |    Concatenating datasets together\n",
      "4 of 11 |    Cleaning up column names\n",
      "5 of 11 |    Sorting values by installation_date\n",
      "6 of 11 |    Assigning installation_date as index\n",
      "7 of 11 |    Refining to only RES customer_segment\n",
      "8 of 11 |    Replacing all null values with median values from same year\n",
      "9 of 11 |    Adusting prices for inflation\n"
     ]
    }
   ],
   "source": [
    "df = Prep.prep()"
   ]
  },
  {
   "cell_type": "code",
   "execution_count": null,
   "metadata": {},
   "outputs": [],
   "source": [
    "# yw = resample_weekly(df)\n",
    "# wsolar_model = ols_table(yw)"
   ]
  },
  {
   "cell_type": "code",
   "execution_count": null,
   "metadata": {},
   "outputs": [],
   "source": [
    "yw = resample_df(df)\n",
    "lagg_cost = create_lag(yw)"
   ]
  },
  {
   "cell_type": "code",
   "execution_count": null,
   "metadata": {},
   "outputs": [],
   "source": [
    "ols_table(lagg_cost)"
   ]
  },
  {
   "cell_type": "code",
   "execution_count": null,
   "metadata": {},
   "outputs": [],
   "source": [
    "rolling_plot(yw)"
   ]
  },
  {
   "cell_type": "code",
   "execution_count": null,
   "metadata": {},
   "outputs": [],
   "source": [
    "test_stationarity(ywn)"
   ]
  },
  {
   "cell_type": "markdown",
   "metadata": {},
   "source": [
    "p-value > .5 <br>\n",
    "cannot reject H0 <br>\n",
    "data is not stationary"
   ]
  },
  {
   "cell_type": "code",
   "execution_count": null,
   "metadata": {},
   "outputs": [],
   "source": [
    "log_ma(yw)"
   ]
  }
 ],
 "metadata": {
  "kernelspec": {
   "display_name": "Python 3",
   "language": "python",
   "name": "python3"
  },
  "language_info": {
   "codemirror_mode": {
    "name": "ipython",
    "version": 3
   },
   "file_extension": ".py",
   "mimetype": "text/x-python",
   "name": "python",
   "nbconvert_exporter": "python",
   "pygments_lexer": "ipython3",
   "version": "3.7.4"
  }
 },
 "nbformat": 4,
 "nbformat_minor": 4
}
