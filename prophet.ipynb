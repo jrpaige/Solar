{
 "cells": [
  {
   "cell_type": "code",
   "execution_count": 2,
   "metadata": {},
   "outputs": [],
   "source": [
    "from src.Time_Series_First_Model import *\n",
    "from src import Prep\n",
    "from src.Time_Series_Stats_Step import *\n",
    "\n",
    "import matplotlib.pyplot as plt\n",
    "\n",
    "import warnings\n",
    "warnings.filterwarnings('ignore')"
   ]
  },
  {
   "cell_type": "code",
   "execution_count": 3,
   "metadata": {},
   "outputs": [],
   "source": [
    "%load_ext autoreload"
   ]
  },
  {
   "cell_type": "code",
   "execution_count": 4,
   "metadata": {},
   "outputs": [],
   "source": [
    "%reload_ext autoreload"
   ]
  },
  {
   "cell_type": "code",
   "execution_count": 9,
   "metadata": {},
   "outputs": [],
   "source": [
    "%autoreload"
   ]
  },
  {
   "cell_type": "code",
   "execution_count": 10,
   "metadata": {},
   "outputs": [
    {
     "name": "stdout",
     "output_type": "stream",
     "text": [
      "1 of 11 |    Reading in first dataset. \n",
      "             Using 4/60 features/columns: 'Installation Date', 'System Size', 'Total Installed Price' , 'Customer Segment' \n",
      "             Changing -9999 values to null\n",
      "2 of 11 |    Reading in second dataset. \n",
      "             Using 4/60 features/columns: 'Installation Date', 'System Size', 'Total Installed Price' , 'Customer Segment' \n",
      "             Changing -9999 values to null\n",
      "3 of 11 |    Concatenating datasets together\n",
      "4 of 11 |    Cleaning up column names\n",
      "5 of 11 |    Sorting values by installation_date\n",
      "6 of 11 |    Assigning installation_date as index\n",
      "7 of 11 |    Refining to only RES customer_segment\n",
      "8 of 11 |    Replacing all null values with median values from same year\n",
      "9 of 11 |    Adusting prices for inflation\n",
      "10 of 11|    Creating target variable: cost_per_watt\n",
      "11 of 11|    Removing > 1600 outliers above $25 per watt\n",
      "Prep complete \n",
      " ------------------------------------------------------------\n"
     ]
    }
   ],
   "source": [
    "df = Prep.prep()"
   ]
  },
  {
   "cell_type": "code",
   "execution_count": 11,
   "metadata": {},
   "outputs": [
    {
     "data": {
      "text/html": [
       "<div>\n",
       "<style scoped>\n",
       "    .dataframe tbody tr th:only-of-type {\n",
       "        vertical-align: middle;\n",
       "    }\n",
       "\n",
       "    .dataframe tbody tr th {\n",
       "        vertical-align: top;\n",
       "    }\n",
       "\n",
       "    .dataframe thead th {\n",
       "        text-align: right;\n",
       "    }\n",
       "</style>\n",
       "<table border=\"1\" class=\"dataframe\">\n",
       "  <thead>\n",
       "    <tr style=\"text-align: right;\">\n",
       "      <th></th>\n",
       "      <th>system_size</th>\n",
       "      <th>total_installed_price</th>\n",
       "      <th>customer_segment</th>\n",
       "      <th>date</th>\n",
       "      <th>adj_installed_price</th>\n",
       "      <th>cost_per_watt</th>\n",
       "    </tr>\n",
       "    <tr>\n",
       "      <th>installation_date</th>\n",
       "      <th></th>\n",
       "      <th></th>\n",
       "      <th></th>\n",
       "      <th></th>\n",
       "      <th></th>\n",
       "      <th></th>\n",
       "    </tr>\n",
       "  </thead>\n",
       "  <tbody>\n",
       "    <tr>\n",
       "      <td>1998-01-30</td>\n",
       "      <td>4.251500</td>\n",
       "      <td>17439.0</td>\n",
       "      <td>RES</td>\n",
       "      <td>1998-01-30</td>\n",
       "      <td>27838.84</td>\n",
       "      <td>6.55</td>\n",
       "    </tr>\n",
       "    <tr>\n",
       "      <td>1998-04-08</td>\n",
       "      <td>2.331600</td>\n",
       "      <td>30941.0</td>\n",
       "      <td>RES</td>\n",
       "      <td>1998-04-08</td>\n",
       "      <td>49119.27</td>\n",
       "      <td>21.07</td>\n",
       "    </tr>\n",
       "    <tr>\n",
       "      <td>1998-04-30</td>\n",
       "      <td>4.181100</td>\n",
       "      <td>17439.0</td>\n",
       "      <td>RES</td>\n",
       "      <td>1998-04-30</td>\n",
       "      <td>27684.65</td>\n",
       "      <td>6.62</td>\n",
       "    </tr>\n",
       "    <tr>\n",
       "      <td>1998-07-07</td>\n",
       "      <td>2.282400</td>\n",
       "      <td>24500.0</td>\n",
       "      <td>RES</td>\n",
       "      <td>1998-07-07</td>\n",
       "      <td>38727.26</td>\n",
       "      <td>16.97</td>\n",
       "    </tr>\n",
       "    <tr>\n",
       "      <td>1998-07-10</td>\n",
       "      <td>3.113265</td>\n",
       "      <td>17439.0</td>\n",
       "      <td>RES</td>\n",
       "      <td>1998-07-10</td>\n",
       "      <td>27565.91</td>\n",
       "      <td>8.85</td>\n",
       "    </tr>\n",
       "    <tr>\n",
       "      <td>...</td>\n",
       "      <td>...</td>\n",
       "      <td>...</td>\n",
       "      <td>...</td>\n",
       "      <td>...</td>\n",
       "      <td>...</td>\n",
       "      <td>...</td>\n",
       "    </tr>\n",
       "    <tr>\n",
       "      <td>2018-12-31</td>\n",
       "      <td>5.703500</td>\n",
       "      <td>22030.5</td>\n",
       "      <td>RES</td>\n",
       "      <td>2018-12-31</td>\n",
       "      <td>22621.35</td>\n",
       "      <td>3.97</td>\n",
       "    </tr>\n",
       "    <tr>\n",
       "      <td>2018-12-31</td>\n",
       "      <td>3.300000</td>\n",
       "      <td>24750.0</td>\n",
       "      <td>RES</td>\n",
       "      <td>2018-12-31</td>\n",
       "      <td>25413.79</td>\n",
       "      <td>7.70</td>\n",
       "    </tr>\n",
       "    <tr>\n",
       "      <td>2018-12-31</td>\n",
       "      <td>4.200000</td>\n",
       "      <td>29400.0</td>\n",
       "      <td>RES</td>\n",
       "      <td>2018-12-31</td>\n",
       "      <td>30188.50</td>\n",
       "      <td>7.19</td>\n",
       "    </tr>\n",
       "    <tr>\n",
       "      <td>2018-12-31</td>\n",
       "      <td>4.620000</td>\n",
       "      <td>34121.0</td>\n",
       "      <td>RES</td>\n",
       "      <td>2018-12-31</td>\n",
       "      <td>35036.12</td>\n",
       "      <td>7.58</td>\n",
       "    </tr>\n",
       "    <tr>\n",
       "      <td>2018-12-31</td>\n",
       "      <td>12.960000</td>\n",
       "      <td>44750.0</td>\n",
       "      <td>RES</td>\n",
       "      <td>2018-12-31</td>\n",
       "      <td>45950.18</td>\n",
       "      <td>3.55</td>\n",
       "    </tr>\n",
       "  </tbody>\n",
       "</table>\n",
       "<p>1454545 rows × 6 columns</p>\n",
       "</div>"
      ],
      "text/plain": [
       "                   system_size  total_installed_price customer_segment  \\\n",
       "installation_date                                                        \n",
       "1998-01-30            4.251500                17439.0              RES   \n",
       "1998-04-08            2.331600                30941.0              RES   \n",
       "1998-04-30            4.181100                17439.0              RES   \n",
       "1998-07-07            2.282400                24500.0              RES   \n",
       "1998-07-10            3.113265                17439.0              RES   \n",
       "...                        ...                    ...              ...   \n",
       "2018-12-31            5.703500                22030.5              RES   \n",
       "2018-12-31            3.300000                24750.0              RES   \n",
       "2018-12-31            4.200000                29400.0              RES   \n",
       "2018-12-31            4.620000                34121.0              RES   \n",
       "2018-12-31           12.960000                44750.0              RES   \n",
       "\n",
       "                         date  adj_installed_price  cost_per_watt  \n",
       "installation_date                                                  \n",
       "1998-01-30         1998-01-30             27838.84           6.55  \n",
       "1998-04-08         1998-04-08             49119.27          21.07  \n",
       "1998-04-30         1998-04-30             27684.65           6.62  \n",
       "1998-07-07         1998-07-07             38727.26          16.97  \n",
       "1998-07-10         1998-07-10             27565.91           8.85  \n",
       "...                       ...                  ...            ...  \n",
       "2018-12-31         2018-12-31             22621.35           3.97  \n",
       "2018-12-31         2018-12-31             25413.79           7.70  \n",
       "2018-12-31         2018-12-31             30188.50           7.19  \n",
       "2018-12-31         2018-12-31             35036.12           7.58  \n",
       "2018-12-31         2018-12-31             45950.18           3.55  \n",
       "\n",
       "[1454545 rows x 6 columns]"
      ]
     },
     "execution_count": 11,
     "metadata": {},
     "output_type": "execute_result"
    }
   ],
   "source": [
    "df"
   ]
  },
  {
   "cell_type": "code",
   "execution_count": null,
   "metadata": {},
   "outputs": [],
   "source": [
    "yw = resample_df(df)\n",
    "lagg_cost = create_lag(yw)"
   ]
  },
  {
   "cell_type": "code",
   "execution_count": 14,
   "metadata": {},
   "outputs": [
    {
     "name": "stdout",
     "output_type": "stream",
     "text": [
      "                            OLS Regression Results                            \n",
      "==============================================================================\n",
      "Dep. Variable:                      y   R-squared:                       0.983\n",
      "Model:                            OLS   Adj. R-squared:                  0.983\n",
      "Method:                 Least Squares   F-statistic:                 1.737e+04\n",
      "Date:                Wed, 11 Mar 2020   Prob (F-statistic):               0.00\n",
      "Time:                        18:41:09   Log-Likelihood:                -320.64\n",
      "No. Observations:                 885   AIC:                             649.3\n",
      "Df Residuals:                     881   BIC:                             668.4\n",
      "Df Model:                           3                                         \n",
      "Covariance Type:            nonrobust                                         \n",
      "==============================================================================\n",
      "                 coef    std err          t      P>|t|      [0.025      0.975]\n",
      "------------------------------------------------------------------------------\n",
      "Intercept      0.0235      0.035      0.676      0.499      -0.045       0.092\n",
      "Lag1           0.3002      0.031      9.805      0.000       0.240       0.360\n",
      "Lag2           0.2809      0.031      9.112      0.000       0.220       0.341\n",
      "Lag3           0.4130      0.031     13.508      0.000       0.353       0.473\n",
      "==============================================================================\n",
      "Omnibus:                      416.592   Durbin-Watson:                   2.179\n",
      "Prob(Omnibus):                  0.000   Jarque-Bera (JB):            20896.855\n",
      "Skew:                           1.370   Prob(JB):                         0.00\n",
      "Kurtosis:                      26.647   Cond. No.                         44.6\n",
      "==============================================================================\n",
      "\n",
      "Warnings:\n",
      "[1] Standard Errors assume that the covariance matrix of the errors is correctly specified.\n"
     ]
    }
   ],
   "source": [
    "syw = shortened_timeline(df)"
   ]
  },
  {
   "cell_type": "code",
   "execution_count": 16,
   "metadata": {},
   "outputs": [
    {
     "data": {
      "image/png": "[encoded data removed]",
      "text/plain": [
       "<Figure size 720x432 with 1 Axes>"
      ]
     },
     "metadata": {},
     "output_type": "display_data"
    },
    {
     "name": "stdout",
     "output_type": "stream",
     "text": [
      "Results of Dickey-Fuller Test:\n",
      "Test Statistic                  -1.323589\n",
      "p-value                          0.618312\n",
      "#Lags Used                      21.000000\n",
      "Number of Observations Used    866.000000\n",
      "Critical Value (1%)             -3.437924\n",
      "Critical Value (5%)             -2.864883\n",
      "Critical Value (10%)            -2.568550\n",
      "dtype: float64\n"
     ]
    }
   ],
   "source": [
    "rolling_plot(syw)\n",
    "plt.show()\n",
    "test_stationarity(syw)"
   ]
  },
  {
   "cell_type": "code",
   "execution_count": null,
   "metadata": {},
   "outputs": [],
   "source": []
  },
  {
   "cell_type": "code",
   "execution_count": null,
   "metadata": {},
   "outputs": [],
   "source": []
  },
  {
   "cell_type": "code",
   "execution_count": null,
   "metadata": {},
   "outputs": [],
   "source": []
  }
 ],
 "metadata": {
  "kernelspec": {
   "display_name": "Python 3",
   "language": "python",
   "name": "python3"
  },
  "language_info": {
   "codemirror_mode": {
    "name": "ipython",
    "version": 3
   },
   "file_extension": ".py",
   "mimetype": "text/x-python",
   "name": "python",
   "nbconvert_exporter": "python",
   "pygments_lexer": "ipython3",
   "version": "3.7.4"
  }
 },
 "nbformat": 4,
 "nbformat_minor": 4
}
