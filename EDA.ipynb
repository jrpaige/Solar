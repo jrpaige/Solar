{
 "cells": [
  {
   "cell_type": "code",
   "execution_count": 40,
   "metadata": {},
   "outputs": [
    {
     "name": "stderr",
     "output_type": "stream",
     "text": [
      "/Users/jenniferpaige/opt/anaconda3/lib/python3.7/site-packages/sklearn/utils/deprecation.py:144: FutureWarning: The sklearn.ensemble.base module is  deprecated in version 0.22 and will be removed in version 0.24. The corresponding classes / functions should instead be imported from sklearn.ensemble. Anything that cannot be imported from sklearn.ensemble is now part of the private API.\n",
      "  warnings.warn(message, FutureWarning)\n",
      "/Users/jenniferpaige/opt/anaconda3/lib/python3.7/site-packages/sklearn/utils/deprecation.py:144: FutureWarning: The sklearn.ensemble.forest module is  deprecated in version 0.22 and will be removed in version 0.24. The corresponding classes / functions should instead be imported from sklearn.ensemble. Anything that cannot be imported from sklearn.ensemble is now part of the private API.\n",
      "  warnings.warn(message, FutureWarning)\n",
      "/Users/jenniferpaige/opt/anaconda3/lib/python3.7/site-packages/sklearn/utils/deprecation.py:144: FutureWarning: The sklearn.preprocessing.label module is  deprecated in version 0.22 and will be removed in version 0.24. The corresponding classes / functions should instead be imported from sklearn.preprocessing. Anything that cannot be imported from sklearn.preprocessing is now part of the private API.\n",
      "  warnings.warn(message, FutureWarning)\n",
      "/Users/jenniferpaige/opt/anaconda3/lib/python3.7/site-packages/sklearn/utils/deprecation.py:144: FutureWarning: The sklearn.metrics.regression module is  deprecated in version 0.22 and will be removed in version 0.24. The corresponding classes / functions should instead be imported from sklearn.metrics. Anything that cannot be imported from sklearn.metrics is now part of the private API.\n",
      "  warnings.warn(message, FutureWarning)\n"
     ]
    }
   ],
   "source": [
    "import pandas as pd\n",
    "import numpy as np\n",
    "import cpi\n",
    "from tqdm import tqdm, tqdm_notebook\n",
    "from statsmodels.tsa.stattools import adfuller\n",
    "import matplotlib.pyplot as plt\n",
    "import seaborn as sns\n",
    "from src.Time_Series_Helper_Funcs import *\n",
    "from src.Regression_Helper_Funcs import *\n",
    "from src.ARIMA_Helper_Funcs import *\n",
    "from src.Prep_Class import *"
   ]
  },
  {
   "cell_type": "code",
   "execution_count": 91,
   "metadata": {},
   "outputs": [
    {
     "name": "stderr",
     "output_type": "stream",
     "text": [
      "100%|██████████| 2/2 [00:34<00:00, 17.40s/it]\n",
      "100%|██████████| 21/21 [00:01<00:00, 20.85it/s]\n",
      "100%|██████████| 1093/1093 [00:54<00:00, 19.95it/s]\n"
     ]
    },
    {
     "name": "stdout",
     "output_type": "stream",
     "text": [
      "|       ADF P-value: 0.9509 \n",
      "|       Time Series is not stationary.   \n",
      "|       Fail to reject ADF H0\n",
      "|       ADF P-value: 0.0 \n",
      "|       Differenced data achieved stationarity. \n",
      "|       Reject ADF H0\n"
     ]
    }
   ],
   "source": [
    "file_path_1 = '/Users/jenniferpaige/Desktop/TTS_10-Dec-2019_p1.csv'\n",
    "file_path_2 = '/Users/jenniferpaige/Desktop/TTS_10-Dec-2019_p2.csv'\n",
    "files = [file_path_1, file_path_2]\n",
    "loaded_files = []\n",
    "count = 0\n",
    "for i in tqdm(range(1, len(files)+1)):\n",
    "    exec(f\"df{i} = pd.read_csv(files[{count}],encoding='iso-8859-1', parse_dates=['Installation Date'], usecols=['Installation Date','System Size','Total Installed Price','Customer Segment', 'State'],na_values=(-9999, '-9999'))\")\n",
    "    count+=1\n",
    "[exec(\"loaded_files.append(df{})\".format(i)) for i in range(1, len(files)+1)]\n",
    "if len(loaded_files) > 1:\n",
    "    df = pd.concat([i for i in loaded_files],ignore_index=True)\n",
    "else: \n",
    "    df=loaded_files[0]\n",
    "df.columns = df.columns.str.strip().str.lower().str.replace(' ', '_').str.replace('(', '').str.replace(')', '')\n",
    "df.sort_values('installation_date', inplace=True)\n",
    "df.set_index('installation_date', drop=True, inplace=True)\n",
    "[df['total_installed_price'].replace(np.nan,round(df.loc[(df['total_installed_price'] != np.nan) & (df.index.year == i)]['total_installed_price'].median(),2),inplace=True) for i in tqdm(range(1998,2019))] \n",
    "df['date'] = df.index.date\n",
    "df['adj_installed_price'] = round(df.apply(lambda x:cpi.inflate(x.total_installed_price, x.date), axis=1),2)\n",
    "df['cost_per_watt'] = round(df['adj_installed_price']/ df['system_size']/1000,2)\n",
    "null_list = []\n",
    "for i in tqdm(range(len(df.cost_per_watt.resample('W').median()))):\n",
    "    if df.cost_per_watt.resample('W').median()[i] >0:\n",
    "        pass\n",
    "    else:\n",
    "        null_list.append(i)\n",
    "y = df.cost_per_watt.resample('W').median()[null_list[-1]+1:]\n",
    "if round(adfuller(y)[1],4) < 0.51:\n",
    "    print(\"|       ADF P-value: {} \\n|       Time Series achieved stationarity. \\n|       Reject ADF H0\".format(round(adfuller(y)[1],4)))\n",
    "else:\n",
    "    print('|       ADF P-value: {} \\n|       Time Series is not stationary.   \\n|       Fail to reject ADF H0'.format(round(adfuller(y)[1],4)))\n",
    "weekly_differences = y.diff(periods=1).dropna()\n",
    "if round(adfuller(weekly_differences)[1],4) < 0.51: \n",
    "    print('|       ADF P-value: {} \\n|       Differenced data achieved stationarity. \\n|       Reject ADF H0'.format(round(adfuller(weekly_differences)[1],4)))"
   ]
  },
  {
   "cell_type": "code",
   "execution_count": 87,
   "metadata": {},
   "outputs": [
    {
     "name": "stderr",
     "output_type": "stream",
     "text": [
      "100%|██████████| 2/2 [00:34<00:00, 17.47s/it]\n",
      "100%|██████████| 21/21 [00:00<00:00, 21.32it/s]\n",
      "100%|██████████| 1093/1093 [00:28<00:00, 38.56it/s]\n"
     ]
    },
    {
     "name": "stdout",
     "output_type": "stream",
     "text": [
      "|       ADF P-value: 0.109 \n",
      "|       Time Series achieved stationarity. \n",
      "|       Reject ADF H0\n",
      "|       ADF P-value: 0.0 \n",
      "|       Differenced data achieved stationarity. \n",
      "|       Reject ADF H0\n"
     ]
    }
   ],
   "source": [
    "file_path_1 = '/Users/jenniferpaige/Desktop/TTS_10-Dec-2019_p1.csv'\n",
    "file_path_2 = '/Users/jenniferpaige/Desktop/TTS_10-Dec-2019_p2.csv'\n",
    "files = [file_path_1, file_path_2]\n",
    "loaded_files = []\n",
    "count = 0\n",
    "for i in tqdm(range(1, len(files)+1)):\n",
    "    exec(f\"df{i} = pd.read_csv(files[{count}],encoding='iso-8859-1', parse_dates=['Installation Date'], usecols=['Installation Date','System Size','Total Installed Price','Customer Segment', 'State'],na_values=(-9999, '-9999'))\")\n",
    "    count+=1\n",
    "[exec(\"loaded_files.append(df{})\".format(i)) for i in range(1, len(files)+1)]\n",
    "if len(loaded_files) > 1:\n",
    "    df = pd.concat([i for i in loaded_files],ignore_index=True)\n",
    "else: \n",
    "    df=loaded_files[0]\n",
    "df.columns = df.columns.str.strip().str.lower().str.replace(' ', '_').str.replace('(', '').str.replace(')', '')\n",
    "df.sort_values('installation_date', inplace=True)\n",
    "df.set_index('installation_date', drop=True, inplace=True)\n",
    "[df['total_installed_price'].replace(np.nan,round(df.loc[(df['total_installed_price'] != np.nan) & (df.index.year == i)]['total_installed_price'].mean(),2),inplace=True) for i in tqdm(range(1998,2019))] \n",
    "df['date'] = df.index.date\n",
    "df['adj_installed_price'] = round(df.apply(lambda x:cpi.inflate(x.total_installed_price, x.date), axis=1),2)\n",
    "df['cost_per_watt'] = round(df['adj_installed_price']/ df['system_size']/1000,2)\n",
    "null_list = []\n",
    "for i in tqdm(range(len(df.cost_per_watt.resample('W').mean()))):\n",
    "    if df.cost_per_watt.resample('W').mean()[i] >0:\n",
    "        pass\n",
    "    else:\n",
    "        null_list.append(i)\n",
    "y = df.cost_per_watt.resample('W').mean()[null_list[-1]+1:]\n",
    "if round(adfuller(y)[1],4) < 0.51:\n",
    "    print(\"|       ADF P-value: {} \\n|       Time Series achieved stationarity. \\n|       Reject ADF H0\".format(round(adfuller(y)[1],4)))\n",
    "else:\n",
    "    print('|       ADF P-value: {} \\n|       Time Series is not stationary.   \\n|       Fail to reject ADF H0'.format(round(adfuller(y)[1],4)))\n",
    "weekly_differences = y.diff(periods=1).dropna()\n",
    "if round(adfuller(weekly_differences)[1],4) < 0.51: \n",
    "    print('|       ADF P-value: {} \\n|       Differenced data achieved stationarity. \\n|       Reject ADF H0'.format(round(adfuller(weekly_differences)[1],4)))"
   ]
  },
  {
   "cell_type": "code",
   "execution_count": null,
   "metadata": {},
   "outputs": [],
   "source": []
  },
  {
   "cell_type": "code",
   "execution_count": null,
   "metadata": {},
   "outputs": [],
   "source": []
  },
  {
   "cell_type": "code",
   "execution_count": null,
   "metadata": {},
   "outputs": [],
   "source": []
  },
  {
   "cell_type": "code",
   "execution_count": null,
   "metadata": {},
   "outputs": [],
   "source": []
  },
  {
   "cell_type": "code",
   "execution_count": null,
   "metadata": {},
   "outputs": [],
   "source": []
  },
  {
   "cell_type": "code",
   "execution_count": null,
   "metadata": {},
   "outputs": [],
   "source": []
  },
  {
   "cell_type": "code",
   "execution_count": null,
   "metadata": {},
   "outputs": [],
   "source": []
  },
  {
   "cell_type": "code",
   "execution_count": 88,
   "metadata": {},
   "outputs": [],
   "source": [
    "diff= pd.DataFrame(weekly_differences.copy())"
   ]
  },
  {
   "cell_type": "code",
   "execution_count": 89,
   "metadata": {},
   "outputs": [
    {
     "name": "stderr",
     "output_type": "stream",
     "text": [
      "/Users/jenniferpaige/getit/Solar/src/Regression_Helper_Funcs.py:105: DataConversionWarning: A column-vector y was passed when a 1d array was expected. Please change the shape of y to (n_samples,), for example using ravel().\n",
      "  rf= RandomForestRegressor(n_jobs=-1).fit(X_train,y_train).predict(X_test)\n"
     ]
    }
   ],
   "source": [
    "y_preds = regres_dfs(diff)\n",
    "y_train = train_test_lag(diff, Xy=True)[1]"
   ]
  },
  {
   "cell_type": "code",
   "execution_count": 90,
   "metadata": {},
   "outputs": [
    {
     "data": {
      "image/png": "[encoded data removed]",
      "text/plain": [
       "<Figure size 1440x576 with 1 Axes>"
      ]
     },
     "metadata": {},
     "output_type": "display_data"
    }
   ],
   "source": [
    "fig, ax = plt.subplots(figsize=(20,8) , constrained_layout=True)\n",
    "ax.plot(y_train[-30:], label='Train', color='gray')\n",
    "ax.plot(y_preds.actual, label= 'Actual')\n",
    "ax.plot(y_preds.randomforest, label= 'Random Forest', linewidth=2)\n",
    "ax.plot(y_preds.olslinear, label= 'OLS Linear', linewidth=2)\n",
    "ax.plot(y_preds.olssmf, label= 'OLS', linewidth=2,  color='g')\n",
    "\n",
    "ax.set_title('Random Forest \\n  MSE= {} \\n \\nOLS Linear \\n MSE = {} \\n \\nOLS smf \\n MSE= {}'.format(round(mean_squared_error(y_preds.actual, y_preds.randomforest),5), round(mean_squared_error(y_preds.actual, y_preds.olslinear),5), round(mean_squared_error(y_preds.actual, y_preds.olssmf),5)), fontsize=18)\n",
    "ax.legend(loc='best')\n",
    "ax.set_xlim(left= y_train.index.date[-31])\n",
    "#fig.suptitle(' Regression Models \\n Forecast For:     [{}] - [{}] \\n Trained On:       [{}] - [{}]\\n '.format(pred_s, pred_e, train_s, train_e), fontsize=20)\n",
    "plt.show()"
   ]
  },
  {
   "cell_type": "code",
   "execution_count": null,
   "metadata": {},
   "outputs": [],
   "source": []
  },
  {
   "cell_type": "code",
   "execution_count": 67,
   "metadata": {},
   "outputs": [
    {
     "data": {
      "text/html": [
       "<div>\n",
       "<style scoped>\n",
       "    .dataframe tbody tr th:only-of-type {\n",
       "        vertical-align: middle;\n",
       "    }\n",
       "\n",
       "    .dataframe tbody tr th {\n",
       "        vertical-align: top;\n",
       "    }\n",
       "\n",
       "    .dataframe thead th {\n",
       "        text-align: right;\n",
       "    }\n",
       "</style>\n",
       "<table border=\"1\" class=\"dataframe\">\n",
       "  <thead>\n",
       "    <tr style=\"text-align: right;\">\n",
       "      <th></th>\n",
       "      <th>cost_per_watt</th>\n",
       "    </tr>\n",
       "    <tr>\n",
       "      <th>installation_date</th>\n",
       "      <th></th>\n",
       "    </tr>\n",
       "  </thead>\n",
       "  <tbody>\n",
       "    <tr>\n",
       "      <th>2001-01-28</th>\n",
       "      <td>5.219167</td>\n",
       "    </tr>\n",
       "    <tr>\n",
       "      <th>2001-02-04</th>\n",
       "      <td>-5.429167</td>\n",
       "    </tr>\n",
       "    <tr>\n",
       "      <th>2001-02-11</th>\n",
       "      <td>18.448000</td>\n",
       "    </tr>\n",
       "    <tr>\n",
       "      <th>2001-02-18</th>\n",
       "      <td>-10.221333</td>\n",
       "    </tr>\n",
       "    <tr>\n",
       "      <th>2001-02-25</th>\n",
       "      <td>-6.585952</td>\n",
       "    </tr>\n",
       "    <tr>\n",
       "      <th>...</th>\n",
       "      <td>...</td>\n",
       "    </tr>\n",
       "    <tr>\n",
       "      <th>2018-12-09</th>\n",
       "      <td>0.003278</td>\n",
       "    </tr>\n",
       "    <tr>\n",
       "      <th>2018-12-16</th>\n",
       "      <td>0.189128</td>\n",
       "    </tr>\n",
       "    <tr>\n",
       "      <th>2018-12-23</th>\n",
       "      <td>-0.129327</td>\n",
       "    </tr>\n",
       "    <tr>\n",
       "      <th>2018-12-30</th>\n",
       "      <td>-0.032894</td>\n",
       "    </tr>\n",
       "    <tr>\n",
       "      <th>2019-01-06</th>\n",
       "      <td>0.093443</td>\n",
       "    </tr>\n",
       "  </tbody>\n",
       "</table>\n",
       "<p>937 rows × 1 columns</p>\n",
       "</div>"
      ],
      "text/plain": [
       "                   cost_per_watt\n",
       "installation_date               \n",
       "2001-01-28              5.219167\n",
       "2001-02-04             -5.429167\n",
       "2001-02-11             18.448000\n",
       "2001-02-18            -10.221333\n",
       "2001-02-25             -6.585952\n",
       "...                          ...\n",
       "2018-12-09              0.003278\n",
       "2018-12-16              0.189128\n",
       "2018-12-23             -0.129327\n",
       "2018-12-30             -0.032894\n",
       "2019-01-06              0.093443\n",
       "\n",
       "[937 rows x 1 columns]"
      ]
     },
     "execution_count": 67,
     "metadata": {},
     "output_type": "execute_result"
    }
   ],
   "source": [
    "week_diff"
   ]
  },
  {
   "cell_type": "code",
   "execution_count": null,
   "metadata": {},
   "outputs": [],
   "source": []
  },
  {
   "cell_type": "code",
   "execution_count": null,
   "metadata": {},
   "outputs": [],
   "source": []
  },
  {
   "cell_type": "code",
   "execution_count": null,
   "metadata": {},
   "outputs": [],
   "source": []
  },
  {
   "cell_type": "code",
   "execution_count": 6,
   "metadata": {},
   "outputs": [],
   "source": [
    "df['year'] = df.index.year"
   ]
  },
  {
   "cell_type": "code",
   "execution_count": 7,
   "metadata": {},
   "outputs": [
    {
     "data": {
      "image/png": "[encoded data removed]",
      "text/plain": [
       "<Figure size 432x288 with 1 Axes>"
      ]
     },
     "metadata": {
      "needs_background": "light"
     },
     "output_type": "display_data"
    }
   ],
   "source": [
    "plt.plot(df.loc[df.cost_per_watt >10].groupby('year').count().system_size)\n",
    "plt.title('Installations above $10 per watt by year')\n",
    "plt.xlabel('Year')\n",
    "plt.ylabel('Number of Installs')\n",
    "plt.xticks(ticks= list(df.year.unique())[::2], rotation=45)\n",
    "plt.show()"
   ]
  },
  {
   "cell_type": "code",
   "execution_count": 8,
   "metadata": {},
   "outputs": [
    {
     "name": "stdout",
     "output_type": "stream",
     "text": [
      "Mean Cost Per Watt By Year\n"
     ]
    },
    {
     "data": {
      "text/plain": [
       "year\n",
       "1998    25.538846\n",
       "1999    11.555160\n",
       "2000    14.432810\n",
       "2001    12.577473\n",
       "2002    11.632536\n",
       "2003    11.163529\n",
       "2004    10.325487\n",
       "2005    10.134592\n",
       "2006     9.789249\n",
       "2007     9.979351\n",
       "2008     9.784714\n",
       "2009     9.849535\n",
       "2010     8.471296\n",
       "2011     6.956878\n",
       "2012     5.944160\n",
       "2013     5.122213\n",
       "2014     4.361602\n",
       "2015     4.368790\n",
       "2016     6.842455\n",
       "2017     4.167934\n",
       "2018     3.950167\n",
       "Name: cost_per_watt, dtype: float64"
      ]
     },
     "execution_count": 8,
     "metadata": {},
     "output_type": "execute_result"
    }
   ],
   "source": [
    "print('Mean Cost Per Watt By Year')\n",
    "df.cost_per_watt.groupby(df['year']).mean()"
   ]
  },
  {
   "cell_type": "code",
   "execution_count": 178,
   "metadata": {
    "collapsed": true,
    "jupyter": {
     "outputs_hidden": true,
     "source_hidden": true
    }
   },
   "outputs": [
    {
     "data": {
      "text/html": [
       "<div>\n",
       "<style scoped>\n",
       "    .dataframe tbody tr th:only-of-type {\n",
       "        vertical-align: middle;\n",
       "    }\n",
       "\n",
       "    .dataframe tbody tr th {\n",
       "        vertical-align: top;\n",
       "    }\n",
       "\n",
       "    .dataframe thead th {\n",
       "        text-align: right;\n",
       "    }\n",
       "</style>\n",
       "<table border=\"1\" class=\"dataframe\">\n",
       "  <thead>\n",
       "    <tr style=\"text-align: right;\">\n",
       "      <th></th>\n",
       "      <th>system_size</th>\n",
       "      <th>total_installed_price</th>\n",
       "      <th>customer_segment</th>\n",
       "      <th>state</th>\n",
       "      <th>date</th>\n",
       "      <th>adj_installed_price</th>\n",
       "      <th>cost_per_watt</th>\n",
       "      <th>year</th>\n",
       "      <th>sys_size_group</th>\n",
       "    </tr>\n",
       "    <tr>\n",
       "      <th>installation_date</th>\n",
       "      <th></th>\n",
       "      <th></th>\n",
       "      <th></th>\n",
       "      <th></th>\n",
       "      <th></th>\n",
       "      <th></th>\n",
       "      <th></th>\n",
       "      <th></th>\n",
       "      <th></th>\n",
       "    </tr>\n",
       "  </thead>\n",
       "  <tbody>\n",
       "    <tr>\n",
       "      <th>1998-03-01</th>\n",
       "      <td>0.650</td>\n",
       "      <td>17640.08</td>\n",
       "      <td>RES</td>\n",
       "      <td>NM</td>\n",
       "      <td>1998-03-01</td>\n",
       "      <td>28071.33</td>\n",
       "      <td>43.19</td>\n",
       "      <td>1998</td>\n",
       "      <td>(0.0, 2.5]</td>\n",
       "    </tr>\n",
       "    <tr>\n",
       "      <th>1998-05-12</th>\n",
       "      <td>0.600</td>\n",
       "      <td>17439.00</td>\n",
       "      <td>RES</td>\n",
       "      <td>OR</td>\n",
       "      <td>1998-05-12</td>\n",
       "      <td>27649.06</td>\n",
       "      <td>46.08</td>\n",
       "      <td>1998</td>\n",
       "      <td>(0.0, 2.5]</td>\n",
       "    </tr>\n",
       "    <tr>\n",
       "      <th>1998-10-01</th>\n",
       "      <td>0.100</td>\n",
       "      <td>17640.08</td>\n",
       "      <td>RES</td>\n",
       "      <td>NM</td>\n",
       "      <td>1998-10-01</td>\n",
       "      <td>27763.23</td>\n",
       "      <td>277.63</td>\n",
       "      <td>1998</td>\n",
       "      <td>(0.0, 2.5]</td>\n",
       "    </tr>\n",
       "    <tr>\n",
       "      <th>1998-12-24</th>\n",
       "      <td>0.462</td>\n",
       "      <td>11423.00</td>\n",
       "      <td>RES</td>\n",
       "      <td>CA</td>\n",
       "      <td>1998-12-24</td>\n",
       "      <td>17989.31</td>\n",
       "      <td>38.94</td>\n",
       "      <td>1998</td>\n",
       "      <td>(0.0, 2.5]</td>\n",
       "    </tr>\n",
       "  </tbody>\n",
       "</table>\n",
       "</div>"
      ],
      "text/plain": [
       "                   system_size  total_installed_price customer_segment state  \\\n",
       "installation_date                                                              \n",
       "1998-03-01               0.650               17640.08              RES    NM   \n",
       "1998-05-12               0.600               17439.00              RES    OR   \n",
       "1998-10-01               0.100               17640.08              RES    NM   \n",
       "1998-12-24               0.462               11423.00              RES    CA   \n",
       "\n",
       "                         date  adj_installed_price  cost_per_watt  year  \\\n",
       "installation_date                                                         \n",
       "1998-03-01         1998-03-01             28071.33          43.19  1998   \n",
       "1998-05-12         1998-05-12             27649.06          46.08  1998   \n",
       "1998-10-01         1998-10-01             27763.23         277.63  1998   \n",
       "1998-12-24         1998-12-24             17989.31          38.94  1998   \n",
       "\n",
       "                  sys_size_group  \n",
       "installation_date                 \n",
       "1998-03-01            (0.0, 2.5]  \n",
       "1998-05-12            (0.0, 2.5]  \n",
       "1998-10-01            (0.0, 2.5]  \n",
       "1998-12-24            (0.0, 2.5]  "
      ]
     },
     "execution_count": 178,
     "metadata": {},
     "output_type": "execute_result"
    }
   ],
   "source": [
    "df.loc[(df['cost_per_watt'] > 25.538846) & (df['year'] == 1998)]"
   ]
  },
  {
   "cell_type": "code",
   "execution_count": null,
   "metadata": {},
   "outputs": [],
   "source": [
    "df.loc[(df['cost_per_watt'] > 25.538846) & (df['year'] == 1998)]"
   ]
  },
  {
   "cell_type": "code",
   "execution_count": 10,
   "metadata": {},
   "outputs": [
    {
     "data": {
      "text/plain": [
       "5.41348102221054"
      ]
     },
     "execution_count": 10,
     "metadata": {},
     "output_type": "execute_result"
    }
   ],
   "source": [
    "df.cost_per_watt.mean(axis=0)"
   ]
  },
  {
   "cell_type": "code",
   "execution_count": 11,
   "metadata": {},
   "outputs": [],
   "source": [
    "sys_bins = [0.0, 2.5, 5.0, 7.5, 10, 12.5, 17.5, 42.5, 18000]\n",
    "\n",
    "df['sys_size_group'] = pd.cut(df['system_size'], sys_bins)\n",
    "\n",
    "pivot_tb = pd.pivot_table(df, values='cost_per_watt', index='year', columns='sys_size_group')\n",
    "\n",
    "size_df = df.copy()\n",
    "\n",
    "size_dummies = pd.get_dummies(size_df['sys_size_group'])\n",
    "\n",
    "size_df = pd.concat([size_df, size_dummies], axis=1)"
   ]
  },
  {
   "cell_type": "code",
   "execution_count": 19,
   "metadata": {},
   "outputs": [
    {
     "data": {
      "text/html": [
       "<div>\n",
       "<style scoped>\n",
       "    .dataframe tbody tr th:only-of-type {\n",
       "        vertical-align: middle;\n",
       "    }\n",
       "\n",
       "    .dataframe tbody tr th {\n",
       "        vertical-align: top;\n",
       "    }\n",
       "\n",
       "    .dataframe thead th {\n",
       "        text-align: right;\n",
       "    }\n",
       "</style>\n",
       "<table border=\"1\" class=\"dataframe\">\n",
       "  <thead>\n",
       "    <tr style=\"text-align: right;\">\n",
       "      <th>sys_size_group</th>\n",
       "      <th>(0.0, 2.5]</th>\n",
       "      <th>(2.5, 5.0]</th>\n",
       "      <th>(5.0, 7.5]</th>\n",
       "      <th>(7.5, 10.0]</th>\n",
       "      <th>(10.0, 12.5]</th>\n",
       "      <th>(12.5, 17.5]</th>\n",
       "      <th>(17.5, 42.5]</th>\n",
       "      <th>(42.5, 18000.0]</th>\n",
       "    </tr>\n",
       "    <tr>\n",
       "      <th>year</th>\n",
       "      <th></th>\n",
       "      <th></th>\n",
       "      <th></th>\n",
       "      <th></th>\n",
       "      <th></th>\n",
       "      <th></th>\n",
       "      <th></th>\n",
       "      <th></th>\n",
       "    </tr>\n",
       "  </thead>\n",
       "  <tbody>\n",
       "    <tr>\n",
       "      <th>1998</th>\n",
       "      <td>40.672857</td>\n",
       "      <td>7.613333</td>\n",
       "      <td>5.110000</td>\n",
       "      <td>NaN</td>\n",
       "      <td>NaN</td>\n",
       "      <td>20.710000</td>\n",
       "      <td>NaN</td>\n",
       "      <td>0.250000</td>\n",
       "    </tr>\n",
       "    <tr>\n",
       "      <th>1999</th>\n",
       "      <td>15.584421</td>\n",
       "      <td>9.398133</td>\n",
       "      <td>9.535625</td>\n",
       "      <td>5.727143</td>\n",
       "      <td>7.428889</td>\n",
       "      <td>5.200000</td>\n",
       "      <td>7.290000</td>\n",
       "      <td>0.276667</td>\n",
       "    </tr>\n",
       "    <tr>\n",
       "      <th>2000</th>\n",
       "      <td>17.636126</td>\n",
       "      <td>11.069848</td>\n",
       "      <td>13.615333</td>\n",
       "      <td>7.275385</td>\n",
       "      <td>10.005000</td>\n",
       "      <td>NaN</td>\n",
       "      <td>NaN</td>\n",
       "      <td>3.840000</td>\n",
       "    </tr>\n",
       "    <tr>\n",
       "      <th>2001</th>\n",
       "      <td>14.918981</td>\n",
       "      <td>11.334150</td>\n",
       "      <td>10.573846</td>\n",
       "      <td>8.325429</td>\n",
       "      <td>9.645217</td>\n",
       "      <td>9.780000</td>\n",
       "      <td>7.338571</td>\n",
       "      <td>3.247500</td>\n",
       "    </tr>\n",
       "    <tr>\n",
       "      <th>2002</th>\n",
       "      <td>14.807557</td>\n",
       "      <td>11.333492</td>\n",
       "      <td>9.542649</td>\n",
       "      <td>8.062500</td>\n",
       "      <td>9.230818</td>\n",
       "      <td>7.893333</td>\n",
       "      <td>8.159000</td>\n",
       "      <td>2.846250</td>\n",
       "    </tr>\n",
       "    <tr>\n",
       "      <th>2003</th>\n",
       "      <td>13.414016</td>\n",
       "      <td>10.866144</td>\n",
       "      <td>9.950793</td>\n",
       "      <td>9.338964</td>\n",
       "      <td>16.123333</td>\n",
       "      <td>7.829211</td>\n",
       "      <td>8.148955</td>\n",
       "      <td>4.820000</td>\n",
       "    </tr>\n",
       "    <tr>\n",
       "      <th>2004</th>\n",
       "      <td>13.037209</td>\n",
       "      <td>10.093871</td>\n",
       "      <td>9.459725</td>\n",
       "      <td>9.022483</td>\n",
       "      <td>8.478035</td>\n",
       "      <td>8.179667</td>\n",
       "      <td>7.904122</td>\n",
       "      <td>6.906100</td>\n",
       "    </tr>\n",
       "    <tr>\n",
       "      <th>2005</th>\n",
       "      <td>14.487545</td>\n",
       "      <td>9.554695</td>\n",
       "      <td>8.874252</td>\n",
       "      <td>9.334893</td>\n",
       "      <td>8.601245</td>\n",
       "      <td>7.978939</td>\n",
       "      <td>7.754309</td>\n",
       "      <td>5.935468</td>\n",
       "    </tr>\n",
       "    <tr>\n",
       "      <th>2006</th>\n",
       "      <td>12.626069</td>\n",
       "      <td>9.760397</td>\n",
       "      <td>9.073150</td>\n",
       "      <td>9.069921</td>\n",
       "      <td>7.969413</td>\n",
       "      <td>8.542579</td>\n",
       "      <td>7.713866</td>\n",
       "      <td>6.704598</td>\n",
       "    </tr>\n",
       "    <tr>\n",
       "      <th>2007</th>\n",
       "      <td>12.198162</td>\n",
       "      <td>9.862257</td>\n",
       "      <td>9.447171</td>\n",
       "      <td>9.428854</td>\n",
       "      <td>8.935860</td>\n",
       "      <td>8.201385</td>\n",
       "      <td>8.248818</td>\n",
       "      <td>6.390267</td>\n",
       "    </tr>\n",
       "    <tr>\n",
       "      <th>2008</th>\n",
       "      <td>12.214569</td>\n",
       "      <td>9.643542</td>\n",
       "      <td>9.076725</td>\n",
       "      <td>9.074756</td>\n",
       "      <td>8.935466</td>\n",
       "      <td>7.660431</td>\n",
       "      <td>7.742567</td>\n",
       "      <td>7.246145</td>\n",
       "    </tr>\n",
       "    <tr>\n",
       "      <th>2009</th>\n",
       "      <td>15.202330</td>\n",
       "      <td>9.294814</td>\n",
       "      <td>8.731977</td>\n",
       "      <td>8.493145</td>\n",
       "      <td>8.431914</td>\n",
       "      <td>8.001471</td>\n",
       "      <td>7.521695</td>\n",
       "      <td>6.593632</td>\n",
       "    </tr>\n",
       "    <tr>\n",
       "      <th>2010</th>\n",
       "      <td>15.288063</td>\n",
       "      <td>8.198475</td>\n",
       "      <td>7.469287</td>\n",
       "      <td>7.213559</td>\n",
       "      <td>7.242510</td>\n",
       "      <td>6.764699</td>\n",
       "      <td>7.057758</td>\n",
       "      <td>5.321435</td>\n",
       "    </tr>\n",
       "    <tr>\n",
       "      <th>2011</th>\n",
       "      <td>9.901381</td>\n",
       "      <td>7.475992</td>\n",
       "      <td>6.775702</td>\n",
       "      <td>6.227433</td>\n",
       "      <td>5.861589</td>\n",
       "      <td>5.454144</td>\n",
       "      <td>4.998645</td>\n",
       "      <td>3.855765</td>\n",
       "    </tr>\n",
       "    <tr>\n",
       "      <th>2012</th>\n",
       "      <td>8.759531</td>\n",
       "      <td>6.265537</td>\n",
       "      <td>5.724915</td>\n",
       "      <td>5.360113</td>\n",
       "      <td>5.025244</td>\n",
       "      <td>4.498468</td>\n",
       "      <td>3.844090</td>\n",
       "      <td>3.494319</td>\n",
       "    </tr>\n",
       "    <tr>\n",
       "      <th>2013</th>\n",
       "      <td>7.762234</td>\n",
       "      <td>5.448380</td>\n",
       "      <td>4.931728</td>\n",
       "      <td>4.409141</td>\n",
       "      <td>4.209388</td>\n",
       "      <td>5.040940</td>\n",
       "      <td>2.832680</td>\n",
       "      <td>3.142945</td>\n",
       "    </tr>\n",
       "    <tr>\n",
       "      <th>2014</th>\n",
       "      <td>8.162375</td>\n",
       "      <td>5.116918</td>\n",
       "      <td>3.985857</td>\n",
       "      <td>3.473909</td>\n",
       "      <td>3.168954</td>\n",
       "      <td>2.998469</td>\n",
       "      <td>2.090541</td>\n",
       "      <td>4.052976</td>\n",
       "    </tr>\n",
       "    <tr>\n",
       "      <th>2015</th>\n",
       "      <td>7.512347</td>\n",
       "      <td>4.967444</td>\n",
       "      <td>4.239553</td>\n",
       "      <td>3.784089</td>\n",
       "      <td>3.556169</td>\n",
       "      <td>3.343649</td>\n",
       "      <td>2.867523</td>\n",
       "      <td>2.246390</td>\n",
       "    </tr>\n",
       "    <tr>\n",
       "      <th>2016</th>\n",
       "      <td>6.595187</td>\n",
       "      <td>4.791035</td>\n",
       "      <td>12.165348</td>\n",
       "      <td>3.972299</td>\n",
       "      <td>3.757401</td>\n",
       "      <td>3.467794</td>\n",
       "      <td>3.216722</td>\n",
       "      <td>2.457734</td>\n",
       "    </tr>\n",
       "    <tr>\n",
       "      <th>2017</th>\n",
       "      <td>5.747332</td>\n",
       "      <td>4.457504</td>\n",
       "      <td>4.043448</td>\n",
       "      <td>4.604961</td>\n",
       "      <td>3.421832</td>\n",
       "      <td>3.109439</td>\n",
       "      <td>3.053833</td>\n",
       "      <td>2.325552</td>\n",
       "    </tr>\n",
       "    <tr>\n",
       "      <th>2018</th>\n",
       "      <td>5.704184</td>\n",
       "      <td>4.261143</td>\n",
       "      <td>3.919866</td>\n",
       "      <td>3.486534</td>\n",
       "      <td>4.574953</td>\n",
       "      <td>2.986186</td>\n",
       "      <td>2.795110</td>\n",
       "      <td>2.234438</td>\n",
       "    </tr>\n",
       "  </tbody>\n",
       "</table>\n",
       "</div>"
      ],
      "text/plain": [
       "sys_size_group  (0.0, 2.5]  (2.5, 5.0]  (5.0, 7.5]  (7.5, 10.0]  (10.0, 12.5]  \\\n",
       "year                                                                            \n",
       "1998             40.672857    7.613333    5.110000          NaN           NaN   \n",
       "1999             15.584421    9.398133    9.535625     5.727143      7.428889   \n",
       "2000             17.636126   11.069848   13.615333     7.275385     10.005000   \n",
       "2001             14.918981   11.334150   10.573846     8.325429      9.645217   \n",
       "2002             14.807557   11.333492    9.542649     8.062500      9.230818   \n",
       "2003             13.414016   10.866144    9.950793     9.338964     16.123333   \n",
       "2004             13.037209   10.093871    9.459725     9.022483      8.478035   \n",
       "2005             14.487545    9.554695    8.874252     9.334893      8.601245   \n",
       "2006             12.626069    9.760397    9.073150     9.069921      7.969413   \n",
       "2007             12.198162    9.862257    9.447171     9.428854      8.935860   \n",
       "2008             12.214569    9.643542    9.076725     9.074756      8.935466   \n",
       "2009             15.202330    9.294814    8.731977     8.493145      8.431914   \n",
       "2010             15.288063    8.198475    7.469287     7.213559      7.242510   \n",
       "2011              9.901381    7.475992    6.775702     6.227433      5.861589   \n",
       "2012              8.759531    6.265537    5.724915     5.360113      5.025244   \n",
       "2013              7.762234    5.448380    4.931728     4.409141      4.209388   \n",
       "2014              8.162375    5.116918    3.985857     3.473909      3.168954   \n",
       "2015              7.512347    4.967444    4.239553     3.784089      3.556169   \n",
       "2016              6.595187    4.791035   12.165348     3.972299      3.757401   \n",
       "2017              5.747332    4.457504    4.043448     4.604961      3.421832   \n",
       "2018              5.704184    4.261143    3.919866     3.486534      4.574953   \n",
       "\n",
       "sys_size_group  (12.5, 17.5]  (17.5, 42.5]  (42.5, 18000.0]  \n",
       "year                                                         \n",
       "1998               20.710000           NaN         0.250000  \n",
       "1999                5.200000      7.290000         0.276667  \n",
       "2000                     NaN           NaN         3.840000  \n",
       "2001                9.780000      7.338571         3.247500  \n",
       "2002                7.893333      8.159000         2.846250  \n",
       "2003                7.829211      8.148955         4.820000  \n",
       "2004                8.179667      7.904122         6.906100  \n",
       "2005                7.978939      7.754309         5.935468  \n",
       "2006                8.542579      7.713866         6.704598  \n",
       "2007                8.201385      8.248818         6.390267  \n",
       "2008                7.660431      7.742567         7.246145  \n",
       "2009                8.001471      7.521695         6.593632  \n",
       "2010                6.764699      7.057758         5.321435  \n",
       "2011                5.454144      4.998645         3.855765  \n",
       "2012                4.498468      3.844090         3.494319  \n",
       "2013                5.040940      2.832680         3.142945  \n",
       "2014                2.998469      2.090541         4.052976  \n",
       "2015                3.343649      2.867523         2.246390  \n",
       "2016                3.467794      3.216722         2.457734  \n",
       "2017                3.109439      3.053833         2.325552  \n",
       "2018                2.986186      2.795110         2.234438  "
      ]
     },
     "execution_count": 19,
     "metadata": {},
     "output_type": "execute_result"
    }
   ],
   "source": [
    "pivot_tb"
   ]
  },
  {
   "cell_type": "code",
   "execution_count": 20,
   "metadata": {},
   "outputs": [
    {
     "name": "stderr",
     "output_type": "stream",
     "text": [
      "100%|██████████| 1543831/1543831 [01:43<00:00, 14852.71it/s]\n"
     ]
    }
   ],
   "source": [
    "sizes_nums = []\n",
    "for i in tqdm(range(len(size_df))):\n",
    "    sizes_nums.append( str(size_df.sys_size_group[i]))"
   ]
  },
  {
   "cell_type": "code",
   "execution_count": 21,
   "metadata": {},
   "outputs": [],
   "source": [
    "size_df['size_group'] = sizes_nums"
   ]
  },
  {
   "cell_type": "code",
   "execution_count": 22,
   "metadata": {},
   "outputs": [
    {
     "data": {
      "image/png": "[encoded data removed]",
      "text/plain": [
       "<Figure size 432x432 with 3 Axes>"
      ]
     },
     "metadata": {
      "needs_background": "light"
     },
     "output_type": "display_data"
    }
   ],
   "source": [
    "sns.jointplot(y='cost_per_watt' , x='year' , kind='reg', data=size_df.loc[size_df['cost_per_watt'] < 50])\n",
    "plt.title('Cost Per Watt by Year', loc='center')\n",
    "plt.xticks(ticks= list(size_df.year.unique())[::2], rotation=45)\n",
    "plt.show()"
   ]
  },
  {
   "cell_type": "code",
   "execution_count": 129,
   "metadata": {},
   "outputs": [
    {
     "data": {
      "text/plain": [
       "<seaborn.axisgrid.JointGrid at 0x1a947a3990>"
      ]
     },
     "execution_count": 129,
     "metadata": {},
     "output_type": "execute_result"
    },
    {
     "data": {
      "image/png": "[encoded data removed]",
      "text/plain": [
       "<Figure size 432x432 with 3 Axes>"
      ]
     },
     "metadata": {
      "needs_background": "light"
     },
     "output_type": "display_data"
    }
   ],
   "source": [
    "sns.jointplot(x='system_size' , y='cost_per_watt', kind='reg', \n",
    "              data=size_df.loc[(size_df['cost_per_watt'] < 50) & (size_df['system_size']<100)])"
   ]
  },
  {
   "cell_type": "code",
   "execution_count": 132,
   "metadata": {},
   "outputs": [
    {
     "data": {
      "text/plain": [
       "<seaborn.axisgrid.JointGrid at 0x1a954f2290>"
      ]
     },
     "execution_count": 132,
     "metadata": {},
     "output_type": "execute_result"
    },
    {
     "data": {
      "image/png": "[encoded data removed]",
      "text/plain": [
       "<Figure size 432x432 with 3 Axes>"
      ]
     },
     "metadata": {
      "needs_background": "light"
     },
     "output_type": "display_data"
    }
   ],
   "source": [
    "sns.jointplot(x='system_size' , y='cost_per_watt' ,  data=size_df.loc[(size_df['cost_per_watt'] < 10) & (size_df['system_size']<100)])"
   ]
  },
  {
   "cell_type": "code",
   "execution_count": null,
   "metadata": {},
   "outputs": [],
   "source": [
    "fig, ax = plt.subplots(4,2, figsize=(15,15), constrained_layout=True)\n",
    "time_list, time_type = ['D', 'W', 'M', 'Q', 'Y'], ['Daily', 'Weekly', 'Monthly', 'Quarterly', 'Yearly']\n",
    "time_dict = dict(zip(time_list, time_type))\n",
    "resam_list = ['mean', 'median']\n",
    "loc_list = [[0,0], [0,1],[1,0], [1,1], [2,0],[2,1], [3,0]]\n",
    "time_cnt, count = 0,0\n",
    "\n",
    "for t in time_list:\n",
    "    for i in range(2):\n",
    "        exec(f\"ax{loc_list[i]}.plot(df.cost_per_watt.resample('{time_list[time_cnt]}').{resam_list[i]}(), label='{time_dict.get(time_list[time_cnt])} {resam_list[i]}'.title()) \")\n",
    "        exec(f\"ax{loc_list[i]}.set_title('{resam_list[i]} Resamples'.title())\")\n",
    "    time_cnt+=1\n",
    "\n",
    "for i in range (2,7):\n",
    "    for r in range(2):\n",
    "        exec(f\"ax{loc_list[i]}.plot(df.cost_per_watt.resample('{time_list[count]}').{resam_list[r]}(), label='{resam_list[r]}'.title())\")\n",
    "        exec(f\"ax{loc_list[i]}.set_title('{time_dict.get(time_list[count])} averages'.title())\")\n",
    "    count+=1\n",
    "\n",
    "for i in range(7):\n",
    "    exec(f\"ax{loc_list[i]}.legend(loc='upper right')\")\n",
    "    exec(f\"ax{loc_list[i]}.set_ylim(0,50)\")\n",
    "\n",
    "plt.savefig(\"mean_and_median_resamples.png\")"
   ]
  },
  {
   "cell_type": "code",
   "execution_count": null,
   "metadata": {},
   "outputs": [],
   "source": []
  },
  {
   "cell_type": "code",
   "execution_count": null,
   "metadata": {},
   "outputs": [],
   "source": []
  },
  {
   "cell_type": "code",
   "execution_count": null,
   "metadata": {},
   "outputs": [],
   "source": []
  }
 ],
 "metadata": {
  "kernelspec": {
   "display_name": "Python 3",
   "language": "python",
   "name": "python3"
  },
  "language_info": {
   "codemirror_mode": {
    "name": "ipython",
    "version": 3
   },
   "file_extension": ".py",
   "mimetype": "text/x-python",
   "name": "python",
   "nbconvert_exporter": "python",
   "pygments_lexer": "ipython3",
   "version": "3.7.7"
  }
 },
 "nbformat": 4,
 "nbformat_minor": 4
}
