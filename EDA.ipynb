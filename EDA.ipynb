{
 "cells": [
  {
   "cell_type": "markdown",
   "metadata": {},
   "source": [
    "### EDA ON DATA FILTERED/SORTED FOR TS AND REGRESSION MODELS"
   ]
  },
  {
   "cell_type": "code",
   "execution_count": 1,
   "metadata": {
    "collapsed": true,
    "jupyter": {
     "outputs_hidden": true
    }
   },
   "outputs": [
    {
     "name": "stderr",
     "output_type": "stream",
     "text": [
      "/Users/jenniferpaige/opt/anaconda3/lib/python3.7/site-packages/sklearn/utils/deprecation.py:144: FutureWarning: The sklearn.ensemble.base module is  deprecated in version 0.22 and will be removed in version 0.24. The corresponding classes / functions should instead be imported from sklearn.ensemble. Anything that cannot be imported from sklearn.ensemble is now part of the private API.\n",
      "  warnings.warn(message, FutureWarning)\n",
      "/Users/jenniferpaige/opt/anaconda3/lib/python3.7/site-packages/sklearn/utils/deprecation.py:144: FutureWarning: The sklearn.ensemble.forest module is  deprecated in version 0.22 and will be removed in version 0.24. The corresponding classes / functions should instead be imported from sklearn.ensemble. Anything that cannot be imported from sklearn.ensemble is now part of the private API.\n",
      "  warnings.warn(message, FutureWarning)\n",
      "/Users/jenniferpaige/opt/anaconda3/lib/python3.7/site-packages/sklearn/utils/deprecation.py:144: FutureWarning: The sklearn.preprocessing.label module is  deprecated in version 0.22 and will be removed in version 0.24. The corresponding classes / functions should instead be imported from sklearn.preprocessing. Anything that cannot be imported from sklearn.preprocessing is now part of the private API.\n",
      "  warnings.warn(message, FutureWarning)\n",
      "/Users/jenniferpaige/opt/anaconda3/lib/python3.7/site-packages/sklearn/utils/deprecation.py:144: FutureWarning: The sklearn.metrics.regression module is  deprecated in version 0.22 and will be removed in version 0.24. The corresponding classes / functions should instead be imported from sklearn.metrics. Anything that cannot be imported from sklearn.metrics is now part of the private API.\n",
      "  warnings.warn(message, FutureWarning)\n"
     ]
    }
   ],
   "source": [
    "from src.Prep import *\n",
    "from src.Time_Series_Helper_Funcs import *\n",
    "from src.Regression_Helper_Funcs import *\n",
    "from src.ARIMA_Helper_Funcs import *\n",
    "import warnings\n",
    "warnings.filterwarnings('ignore')"
   ]
  },
  {
   "cell_type": "code",
   "execution_count": 2,
   "metadata": {
    "collapsed": true,
    "jupyter": {
     "outputs_hidden": true
    }
   },
   "outputs": [
    {
     "name": "stdout",
     "output_type": "stream",
     "text": [
      "------------------------------------PREP------------------------------------\n",
      " 1 of 12 |    Reading in data \n",
      "         |    Filtering to 4 features: Date, System Size, Total Cost, Customer Segment \n",
      "         |    Changing -9999 values to null\n",
      " 2 of 12 |    Cleaning up column names\n",
      " 3 of 12 |    Refining to only RES Customer Segment\n",
      " 4 of 12 |    Sorting values by installation_date\n",
      "         |    Assigning installation_date as index\n",
      " 5 of 12 |    Replacing all null values with median values from same year\n",
      " 6 of 12 |    Adusting prices for inflation\n",
      " 7 of 12 |    Creating target variable: cost_per_watt\n",
      " 8 of 12 |    Removing outliers above $25 per watt\n",
      " 9 of 12 |    Resampling data into weekly medians\n",
      "         |    Cropping dataframe to keep only continuous non-null data\n",
      "10 of 12 |    Testing for stationarity\n",
      "         |       ADF P-value: 0.9654 \n",
      "         |       Time Series is not stationary.   \n",
      "         |       Fail to reject ADF H0\n",
      "11 of 12 |    Creating differenced data to achieve stationarity\n",
      "12 of 12 |    Testing for stationarity on differenced data\n",
      "         |       ADF P-value: 0.0 \n",
      "         |       Differenced data achieved stationarity. \n",
      "         |       Reject ADF H0\n",
      "-------------------------------PREP COMPLETE--------------------------------\n"
     ]
    }
   ],
   "source": [
    "#data made specifically for regression and ARIMA model\n",
    "df, diff = prep()"
   ]
  },
  {
   "cell_type": "code",
   "execution_count": 21,
   "metadata": {},
   "outputs": [],
   "source": [
    "cdf = df.copy()"
   ]
  },
  {
   "cell_type": "code",
   "execution_count": 23,
   "metadata": {},
   "outputs": [
    {
     "data": {
      "image/png": "[encoded data removed]",
      "text/plain": [
       "<Figure size 720x432 with 1 Axes>"
      ]
     },
     "metadata": {},
     "output_type": "display_data"
    }
   ],
   "source": [
    "plt.hist(cdf['system_size'], bins=10000)\n",
    "plt.xlim(0,20)\n",
    "plt.title('Count of Installs by System Size')\n",
    "plt.xlabel('System Size by kW')\n",
    "plt.ylabel('Number of Installations')\n",
    "plt.show()"
   ]
  },
  {
   "cell_type": "code",
   "execution_count": 26,
   "metadata": {},
   "outputs": [
    {
     "data": {
      "text/html": [
       "<div>\n",
       "<style scoped>\n",
       "    .dataframe tbody tr th:only-of-type {\n",
       "        vertical-align: middle;\n",
       "    }\n",
       "\n",
       "    .dataframe tbody tr th {\n",
       "        vertical-align: top;\n",
       "    }\n",
       "\n",
       "    .dataframe thead th {\n",
       "        text-align: right;\n",
       "    }\n",
       "</style>\n",
       "<table border=\"1\" class=\"dataframe\">\n",
       "  <thead>\n",
       "    <tr style=\"text-align: right;\">\n",
       "      <th></th>\n",
       "      <th>system_size</th>\n",
       "      <th>total_installed_price</th>\n",
       "      <th>customer_segment</th>\n",
       "      <th>date</th>\n",
       "      <th>adj_installed_price</th>\n",
       "      <th>cost_per_watt</th>\n",
       "    </tr>\n",
       "    <tr>\n",
       "      <th>installation_date</th>\n",
       "      <th></th>\n",
       "      <th></th>\n",
       "      <th></th>\n",
       "      <th></th>\n",
       "      <th></th>\n",
       "      <th></th>\n",
       "    </tr>\n",
       "  </thead>\n",
       "  <tbody>\n",
       "    <tr>\n",
       "      <th>1998-01-30</th>\n",
       "      <td>4.251500</td>\n",
       "      <td>17439.0</td>\n",
       "      <td>RES</td>\n",
       "      <td>1998-01-30</td>\n",
       "      <td>27854.38</td>\n",
       "      <td>6.55</td>\n",
       "    </tr>\n",
       "    <tr>\n",
       "      <th>1998-04-08</th>\n",
       "      <td>2.331600</td>\n",
       "      <td>30941.0</td>\n",
       "      <td>RES</td>\n",
       "      <td>1998-04-08</td>\n",
       "      <td>49146.68</td>\n",
       "      <td>21.08</td>\n",
       "    </tr>\n",
       "    <tr>\n",
       "      <th>1998-04-30</th>\n",
       "      <td>4.181100</td>\n",
       "      <td>17439.0</td>\n",
       "      <td>RES</td>\n",
       "      <td>1998-04-30</td>\n",
       "      <td>27700.11</td>\n",
       "      <td>6.63</td>\n",
       "    </tr>\n",
       "    <tr>\n",
       "      <th>1998-07-07</th>\n",
       "      <td>2.282400</td>\n",
       "      <td>24500.0</td>\n",
       "      <td>RES</td>\n",
       "      <td>1998-07-07</td>\n",
       "      <td>38748.88</td>\n",
       "      <td>16.98</td>\n",
       "    </tr>\n",
       "    <tr>\n",
       "      <th>1998-07-10</th>\n",
       "      <td>3.113265</td>\n",
       "      <td>17439.0</td>\n",
       "      <td>RES</td>\n",
       "      <td>1998-07-10</td>\n",
       "      <td>27581.30</td>\n",
       "      <td>8.86</td>\n",
       "    </tr>\n",
       "    <tr>\n",
       "      <th>...</th>\n",
       "      <td>...</td>\n",
       "      <td>...</td>\n",
       "      <td>...</td>\n",
       "      <td>...</td>\n",
       "      <td>...</td>\n",
       "      <td>...</td>\n",
       "    </tr>\n",
       "    <tr>\n",
       "      <th>2018-12-31</th>\n",
       "      <td>5.760000</td>\n",
       "      <td>22000.0</td>\n",
       "      <td>RES</td>\n",
       "      <td>2018-12-31</td>\n",
       "      <td>22602.64</td>\n",
       "      <td>3.92</td>\n",
       "    </tr>\n",
       "    <tr>\n",
       "      <th>2018-12-31</th>\n",
       "      <td>4.410000</td>\n",
       "      <td>21610.0</td>\n",
       "      <td>RES</td>\n",
       "      <td>2018-12-31</td>\n",
       "      <td>22201.96</td>\n",
       "      <td>5.03</td>\n",
       "    </tr>\n",
       "    <tr>\n",
       "      <th>2018-12-31</th>\n",
       "      <td>8.640000</td>\n",
       "      <td>45958.6</td>\n",
       "      <td>RES</td>\n",
       "      <td>2018-12-31</td>\n",
       "      <td>47217.54</td>\n",
       "      <td>5.46</td>\n",
       "    </tr>\n",
       "    <tr>\n",
       "      <th>2018-12-31</th>\n",
       "      <td>2.880000</td>\n",
       "      <td>10944.0</td>\n",
       "      <td>RES</td>\n",
       "      <td>2018-12-31</td>\n",
       "      <td>11243.79</td>\n",
       "      <td>3.90</td>\n",
       "    </tr>\n",
       "    <tr>\n",
       "      <th>2018-12-31</th>\n",
       "      <td>4.800000</td>\n",
       "      <td>18700.0</td>\n",
       "      <td>RES</td>\n",
       "      <td>2018-12-31</td>\n",
       "      <td>19212.25</td>\n",
       "      <td>4.00</td>\n",
       "    </tr>\n",
       "  </tbody>\n",
       "</table>\n",
       "<p>1454545 rows × 6 columns</p>\n",
       "</div>"
      ],
      "text/plain": [
       "                   system_size  total_installed_price customer_segment  \\\n",
       "installation_date                                                        \n",
       "1998-01-30            4.251500                17439.0              RES   \n",
       "1998-04-08            2.331600                30941.0              RES   \n",
       "1998-04-30            4.181100                17439.0              RES   \n",
       "1998-07-07            2.282400                24500.0              RES   \n",
       "1998-07-10            3.113265                17439.0              RES   \n",
       "...                        ...                    ...              ...   \n",
       "2018-12-31            5.760000                22000.0              RES   \n",
       "2018-12-31            4.410000                21610.0              RES   \n",
       "2018-12-31            8.640000                45958.6              RES   \n",
       "2018-12-31            2.880000                10944.0              RES   \n",
       "2018-12-31            4.800000                18700.0              RES   \n",
       "\n",
       "                         date  adj_installed_price  cost_per_watt  \n",
       "installation_date                                                  \n",
       "1998-01-30         1998-01-30             27854.38           6.55  \n",
       "1998-04-08         1998-04-08             49146.68          21.08  \n",
       "1998-04-30         1998-04-30             27700.11           6.63  \n",
       "1998-07-07         1998-07-07             38748.88          16.98  \n",
       "1998-07-10         1998-07-10             27581.30           8.86  \n",
       "...                       ...                  ...            ...  \n",
       "2018-12-31         2018-12-31             22602.64           3.92  \n",
       "2018-12-31         2018-12-31             22201.96           5.03  \n",
       "2018-12-31         2018-12-31             47217.54           5.46  \n",
       "2018-12-31         2018-12-31             11243.79           3.90  \n",
       "2018-12-31         2018-12-31             19212.25           4.00  \n",
       "\n",
       "[1454545 rows x 6 columns]"
      ]
     },
     "execution_count": 26,
     "metadata": {},
     "output_type": "execute_result"
    }
   ],
   "source": [
    "df"
   ]
  },
  {
   "cell_type": "code",
   "execution_count": null,
   "metadata": {},
   "outputs": [],
   "source": []
  }
 ],
 "metadata": {
  "kernelspec": {
   "display_name": "Python 3",
   "language": "python",
   "name": "python3"
  },
  "language_info": {
   "codemirror_mode": {
    "name": "ipython",
    "version": 3
   },
   "file_extension": ".py",
   "mimetype": "text/x-python",
   "name": "python",
   "nbconvert_exporter": "python",
   "pygments_lexer": "ipython3",
   "version": "3.7.6"
  }
 },
 "nbformat": 4,
 "nbformat_minor": 4
}
